{
 "cells": [
  {
   "cell_type": "code",
   "execution_count": null,
   "metadata": {
    "id": "68Qn6bhauCQn"
   },
   "outputs": [],
   "source": [
    "import tensorflow as tf\n",
    "import numpy as np\n",
    "import pandas as pd\n"
   ]
  },
  {
   "cell_type": "code",
   "execution_count": null,
   "metadata": {
    "colab": {
     "base_uri": "https://localhost:8080/",
     "height": 122
    },
    "id": "YUBUPn_puP1h",
    "outputId": "c7aff032-9b3e-4520-d691-725fcd73ed4a"
   },
   "outputs": [
    {
     "name": "stdout",
     "output_type": "stream",
     "text": [
      "Go to this URL in a browser: https://accounts.google.com/o/oauth2/auth?client_id=947318989803-6bn6qk8qdgf4n4g3pfee6491hc0brc4i.apps.googleusercontent.com&redirect_uri=urn%3aietf%3awg%3aoauth%3a2.0%3aoob&response_type=code&scope=email%20https%3a%2f%2fwww.googleapis.com%2fauth%2fdocs.test%20https%3a%2f%2fwww.googleapis.com%2fauth%2fdrive%20https%3a%2f%2fwww.googleapis.com%2fauth%2fdrive.photos.readonly%20https%3a%2f%2fwww.googleapis.com%2fauth%2fpeopleapi.readonly\n",
      "\n",
      "Enter your authorization code:\n",
      "··········\n",
      "Mounted at /content/gdrive\n"
     ]
    }
   ],
   "source": [
    "from google.colab import drive\n",
    "drive.mount('/content/gdrive')"
   ]
  },
  {
   "cell_type": "code",
   "execution_count": null,
   "metadata": {
    "colab": {
     "base_uri": "https://localhost:8080/",
     "height": 224
    },
    "id": "pIfFTCW4umns",
    "outputId": "4ca7874e-854f-4e62-a0b1-f590f6d2ca28"
   },
   "outputs": [
    {
     "name": "stdout",
     "output_type": "stream",
     "text": [
      "--2020-08-02 05:53:33--  https://storage.googleapis.com/mledu-datasets/cats_and_dogs_filtered.zip\n",
      "Resolving storage.googleapis.com (storage.googleapis.com)... 74.125.130.128, 172.217.194.128, 2404:6800:4003:c03::80, ...\n",
      "Connecting to storage.googleapis.com (storage.googleapis.com)|74.125.130.128|:443... connected.\n",
      "HTTP request sent, awaiting response... 200 OK\n",
      "Length: 68606236 (65M) [application/zip]\n",
      "Saving to: ‘/tmp/cats_and_dogs_filtered.zip’\n",
      "\n",
      "/tmp/cats_and_dogs_ 100%[===================>]  65.43M  18.5MB/s    in 3.5s    \n",
      "\n",
      "2020-08-02 05:53:38 (18.5 MB/s) - ‘/tmp/cats_and_dogs_filtered.zip’ saved [68606236/68606236]\n",
      "\n"
     ]
    }
   ],
   "source": [
    "# Download the data set of cats and dogs using wget \n",
    "!wget --no-check-certificate \\\n",
    "    https://storage.googleapis.com/mledu-datasets/cats_and_dogs_filtered.zip \\\n",
    "    -O /tmp/cats_and_dogs_filtered.zip"
   ]
  },
  {
   "cell_type": "code",
   "execution_count": null,
   "metadata": {
    "id": "VfORBsbTu8L8"
   },
   "outputs": [],
   "source": [
    "# Unzip the downloaded zip file\n",
    "import zipfile\n",
    "local_zip = '/tmp/cats_and_dogs_filtered.zip'\n",
    "zip_ref = zipfile.ZipFile(local_zip, 'r')\n",
    "zip_ref.extractall('/tmp')\n",
    "zip_ref.close()"
   ]
  },
  {
   "cell_type": "code",
   "execution_count": null,
   "metadata": {
    "id": "TxDdP5UqMk0r"
   },
   "outputs": [],
   "source": [
    "# Image Augmentation using options in the ImageDataGenetor Object\n",
    "\n",
    "from tensorflow.keras.preprocessing.image import ImageDataGenerator\n",
    "\n",
    "\n",
    "train_datagen_augmented = ImageDataGenerator(\n",
    "      rescale=1./255,\n",
    "      rotation_range=30,        # rotation_range is a value in degrees (0–180), a range within which to randomly rotate pictures\n",
    "      width_shift_range=0.3,    # width_shift is a range (fraction of total width) within  which the picture is  horizontally translated\n",
    "      height_shift_range=0.3,   # height_shift is a range (fraction of total heigth) within  which the picture is  vertically translated\n",
    "      shear_range=0.3,          # shear_range is for randomly applying shearing transformations.\n",
    "      zoom_range=0.3,           # zoom_range is for randomly zooming inside pictures\n",
    "      horizontal_flip=True,     # Horizontal_flip is for randomly flipping half of the images horizontally.\n",
    "      fill_mode='nearest' )     # strategy used for filling in newly created pixels"
   ]
  },
  {
   "cell_type": "code",
   "execution_count": null,
   "metadata": {
    "colab": {
     "base_uri": "https://localhost:8080/",
     "height": 34
    },
    "id": "qMIxSeG9vv3Z",
    "outputId": "181dca84-db3a-453b-d3af-a64917e74100"
   },
   "outputs": [
    {
     "name": "stdout",
     "output_type": "stream",
     "text": [
      "Found 2000 images belonging to 2 classes.\n"
     ]
    }
   ],
   "source": [
    "# Building a train generator\n",
    "\"\"\"\n",
    "from tensorflow.keras.preprocessing.image import ImageDataGenerator\n",
    "\n",
    "\n",
    "train_datagen = ImageDataGenerator(rescale=1/255.0) # rescale images \n",
    "\n",
    "training_images_path = '/tmp/cats_and_dogs_filtered/train'\n",
    "\n",
    "train_generator = train_datagen.flow_from_directory(\n",
    "    training_images_path, \n",
    "    target_size=(150, 150), # resize images to 150 x 150\n",
    "    batch_size = 30, \n",
    "    class_mode='binary' # This is a binary classifier cats and dogs\n",
    ")\n",
    "\"\"\""
   ]
  },
  {
   "cell_type": "code",
   "execution_count": null,
   "metadata": {
    "colab": {
     "base_uri": "https://localhost:8080/",
     "height": 34
    },
    "id": "7gV60AnyV53V",
    "outputId": "e3cf10ff-c36c-4ab4-d8ca-e32347da26c7"
   },
   "outputs": [
    {
     "name": "stdout",
     "output_type": "stream",
     "text": [
      "Found 2000 images belonging to 2 classes.\n"
     ]
    }
   ],
   "source": [
    "# Build a training generator using ImageDataGenetor Object with Augmentation options\n",
    "\n",
    "\n",
    "training_images_path = '/tmp/cats_and_dogs_filtered/train'\n",
    "\n",
    "train_generator_augmented = train_datagen_augmented.flow_from_directory(\n",
    "    training_images_path, \n",
    "    target_size=(150, 150), # resize images to 150 x 150\n",
    "    batch_size = 30, \n",
    "    class_mode='binary' # This is a binary classifier cats and dogs\n",
    ")"
   ]
  },
  {
   "cell_type": "code",
   "execution_count": null,
   "metadata": {
    "colab": {
     "base_uri": "https://localhost:8080/",
     "height": 34
    },
    "id": "R7NCj2jxwbjf",
    "outputId": "f8d3b129-c9db-4d71-9a56-796abd73e11a"
   },
   "outputs": [
    {
     "name": "stdout",
     "output_type": "stream",
     "text": [
      "Found 1000 images belonging to 2 classes.\n"
     ]
    }
   ],
   "source": [
    "validation_datagen = ImageDataGenerator(rescale=1/255.0) # rescale images \n",
    "\n",
    "validation_images_path = '/tmp/cats_and_dogs_filtered/validation'\n",
    "\n",
    "validation_generator = validation_datagen.flow_from_directory(\n",
    "    validation_images_path, \n",
    "    target_size=(150, 150), # resize images to 150 x 150\n",
    "    batch_size = 30, \n",
    "    class_mode='binary' # This is a binary classifier cats and dogs\n",
    ")"
   ]
  },
  {
   "cell_type": "code",
   "execution_count": null,
   "metadata": {
    "id": "JetV-SYOwt3U"
   },
   "outputs": [],
   "source": [
    "# Build a deep learning CNN having 4 Convulational layers and 1 dense layer\n",
    "\n",
    "model = tf.keras.models.Sequential([\n",
    "    tf.keras.layers.Conv2D(32, (3,3), activation='relu', input_shape=(150, 150, 3)),\n",
    "    tf.keras.layers.MaxPooling2D(2, 2),\n",
    "    tf.keras.layers.Conv2D(64, (3,3), activation='relu'),\n",
    "    tf.keras.layers.MaxPooling2D(2,2),\n",
    "    tf.keras.layers.Conv2D(128, (3,3), activation='relu'),\n",
    "    tf.keras.layers.MaxPooling2D(2,2),\n",
    "    tf.keras.layers.Conv2D(128, (3,3), activation='relu'),\n",
    "    tf.keras.layers.MaxPooling2D(2,2),\n",
    "    tf.keras.layers.Flatten(),\n",
    "    tf.keras.layers.Dense(512, activation='relu'),\n",
    "    tf.keras.layers.Dense(1, activation='sigmoid')\n",
    "])\n"
   ]
  },
  {
   "cell_type": "code",
   "execution_count": null,
   "metadata": {
    "id": "xEBlkgJoxs6L"
   },
   "outputs": [],
   "source": [
    "# compile the model\n",
    "\n",
    "model.compile(loss='binary_crossentropy',\n",
    "              optimizer='adam',\n",
    "              metrics=['accuracy'])\n"
   ]
  },
  {
   "cell_type": "code",
   "execution_count": null,
   "metadata": {
    "colab": {
     "base_uri": "https://localhost:8080/",
     "height": 1000
    },
    "id": "XBaEs80Ox8VQ",
    "outputId": "05b3f59c-03c4-48bf-8d4c-03359b04f0a6"
   },
   "outputs": [
    {
     "name": "stdout",
     "output_type": "stream",
     "text": [
      "Epoch 1/100\n",
      "67/67 - 19s - loss: 0.6946 - accuracy: 0.5195 - val_loss: 0.6935 - val_accuracy: 0.5000\n",
      "Epoch 2/100\n",
      "67/67 - 18s - loss: 0.6908 - accuracy: 0.5275 - val_loss: 0.6913 - val_accuracy: 0.5200\n",
      "Epoch 3/100\n",
      "67/67 - 19s - loss: 0.6923 - accuracy: 0.4985 - val_loss: 0.6928 - val_accuracy: 0.5000\n",
      "Epoch 4/100\n",
      "67/67 - 19s - loss: 0.6929 - accuracy: 0.5040 - val_loss: 0.6918 - val_accuracy: 0.5190\n",
      "Epoch 5/100\n",
      "67/67 - 19s - loss: 0.6890 - accuracy: 0.5365 - val_loss: 0.6868 - val_accuracy: 0.5500\n",
      "Epoch 6/100\n",
      "67/67 - 19s - loss: 0.6863 - accuracy: 0.5505 - val_loss: 0.6676 - val_accuracy: 0.5800\n",
      "Epoch 7/100\n",
      "67/67 - 19s - loss: 0.6792 - accuracy: 0.5475 - val_loss: 0.6778 - val_accuracy: 0.5510\n",
      "Epoch 8/100\n",
      "67/67 - 19s - loss: 0.6780 - accuracy: 0.5445 - val_loss: 0.6739 - val_accuracy: 0.5490\n",
      "Epoch 9/100\n",
      "67/67 - 19s - loss: 0.6654 - accuracy: 0.5740 - val_loss: 0.6731 - val_accuracy: 0.5320\n",
      "Epoch 10/100\n",
      "67/67 - 19s - loss: 0.6548 - accuracy: 0.5950 - val_loss: 0.6310 - val_accuracy: 0.6210\n",
      "Epoch 11/100\n",
      "67/67 - 19s - loss: 0.6450 - accuracy: 0.6050 - val_loss: 0.6310 - val_accuracy: 0.6300\n",
      "Epoch 12/100\n",
      "67/67 - 19s - loss: 0.6472 - accuracy: 0.6085 - val_loss: 0.6339 - val_accuracy: 0.6280\n",
      "Epoch 13/100\n",
      "67/67 - 19s - loss: 0.6391 - accuracy: 0.6255 - val_loss: 0.6458 - val_accuracy: 0.6210\n",
      "Epoch 14/100\n",
      "67/67 - 19s - loss: 0.6187 - accuracy: 0.6475 - val_loss: 0.6174 - val_accuracy: 0.6890\n",
      "Epoch 15/100\n",
      "67/67 - 19s - loss: 0.6266 - accuracy: 0.6345 - val_loss: 0.6026 - val_accuracy: 0.6710\n",
      "Epoch 16/100\n",
      "67/67 - 19s - loss: 0.6290 - accuracy: 0.6320 - val_loss: 0.6070 - val_accuracy: 0.6460\n",
      "Epoch 17/100\n",
      "67/67 - 19s - loss: 0.6212 - accuracy: 0.6285 - val_loss: 0.5994 - val_accuracy: 0.6590\n",
      "Epoch 18/100\n",
      "67/67 - 19s - loss: 0.6403 - accuracy: 0.6130 - val_loss: 0.5927 - val_accuracy: 0.6880\n",
      "Epoch 19/100\n",
      "67/67 - 19s - loss: 0.6135 - accuracy: 0.6710 - val_loss: 0.5916 - val_accuracy: 0.6710\n",
      "Epoch 20/100\n",
      "67/67 - 19s - loss: 0.6073 - accuracy: 0.6710 - val_loss: 0.5881 - val_accuracy: 0.6790\n",
      "Epoch 21/100\n",
      "67/67 - 18s - loss: 0.5881 - accuracy: 0.6780 - val_loss: 0.5785 - val_accuracy: 0.6910\n",
      "Epoch 22/100\n",
      "67/67 - 18s - loss: 0.5822 - accuracy: 0.6860 - val_loss: 0.5677 - val_accuracy: 0.7020\n",
      "Epoch 23/100\n",
      "67/67 - 18s - loss: 0.5894 - accuracy: 0.6735 - val_loss: 0.5530 - val_accuracy: 0.7070\n",
      "Epoch 24/100\n",
      "67/67 - 18s - loss: 0.5824 - accuracy: 0.6940 - val_loss: 0.5624 - val_accuracy: 0.7090\n",
      "Epoch 25/100\n",
      "67/67 - 19s - loss: 0.5792 - accuracy: 0.6890 - val_loss: 0.5799 - val_accuracy: 0.7070\n",
      "Epoch 26/100\n",
      "67/67 - 18s - loss: 0.5767 - accuracy: 0.6895 - val_loss: 0.5314 - val_accuracy: 0.7370\n",
      "Epoch 27/100\n",
      "67/67 - 18s - loss: 0.5642 - accuracy: 0.7070 - val_loss: 0.5288 - val_accuracy: 0.7330\n",
      "Epoch 28/100\n",
      "67/67 - 18s - loss: 0.5516 - accuracy: 0.7135 - val_loss: 0.5318 - val_accuracy: 0.7350\n",
      "Epoch 29/100\n",
      "67/67 - 18s - loss: 0.5520 - accuracy: 0.7090 - val_loss: 0.5845 - val_accuracy: 0.7190\n",
      "Epoch 30/100\n",
      "67/67 - 18s - loss: 0.5685 - accuracy: 0.7135 - val_loss: 0.5166 - val_accuracy: 0.7330\n",
      "Epoch 31/100\n",
      "67/67 - 18s - loss: 0.5665 - accuracy: 0.7025 - val_loss: 0.5504 - val_accuracy: 0.7250\n",
      "Epoch 32/100\n",
      "67/67 - 18s - loss: 0.5498 - accuracy: 0.7135 - val_loss: 0.5365 - val_accuracy: 0.7340\n",
      "Epoch 33/100\n",
      "67/67 - 18s - loss: 0.5474 - accuracy: 0.7175 - val_loss: 0.5477 - val_accuracy: 0.7290\n",
      "Epoch 34/100\n",
      "67/67 - 18s - loss: 0.5557 - accuracy: 0.7085 - val_loss: 0.5474 - val_accuracy: 0.7130\n",
      "Epoch 35/100\n",
      "67/67 - 18s - loss: 0.5267 - accuracy: 0.7370 - val_loss: 0.5190 - val_accuracy: 0.7430\n",
      "Epoch 36/100\n",
      "67/67 - 18s - loss: 0.5244 - accuracy: 0.7505 - val_loss: 0.5273 - val_accuracy: 0.7260\n",
      "Epoch 37/100\n",
      "67/67 - 18s - loss: 0.5236 - accuracy: 0.7295 - val_loss: 0.5918 - val_accuracy: 0.7130\n",
      "Epoch 38/100\n",
      "67/67 - 18s - loss: 0.5333 - accuracy: 0.7370 - val_loss: 0.5608 - val_accuracy: 0.7080\n",
      "Epoch 39/100\n",
      "67/67 - 18s - loss: 0.5409 - accuracy: 0.7260 - val_loss: 0.5076 - val_accuracy: 0.7560\n",
      "Epoch 40/100\n",
      "67/67 - 18s - loss: 0.5177 - accuracy: 0.7420 - val_loss: 0.4917 - val_accuracy: 0.7570\n",
      "Epoch 41/100\n",
      "67/67 - 18s - loss: 0.5235 - accuracy: 0.7405 - val_loss: 0.5294 - val_accuracy: 0.7430\n",
      "Epoch 42/100\n",
      "67/67 - 18s - loss: 0.5366 - accuracy: 0.7220 - val_loss: 0.5106 - val_accuracy: 0.7570\n",
      "Epoch 43/100\n",
      "67/67 - 18s - loss: 0.5073 - accuracy: 0.7480 - val_loss: 0.5032 - val_accuracy: 0.7560\n",
      "Epoch 44/100\n",
      "67/67 - 18s - loss: 0.5151 - accuracy: 0.7555 - val_loss: 0.5079 - val_accuracy: 0.7650\n",
      "Epoch 45/100\n",
      "67/67 - 18s - loss: 0.5285 - accuracy: 0.7340 - val_loss: 0.5066 - val_accuracy: 0.7590\n",
      "Epoch 46/100\n",
      "67/67 - 18s - loss: 0.5058 - accuracy: 0.7490 - val_loss: 0.5500 - val_accuracy: 0.7260\n",
      "Epoch 47/100\n",
      "67/67 - 18s - loss: 0.5107 - accuracy: 0.7415 - val_loss: 0.5507 - val_accuracy: 0.7300\n",
      "Epoch 48/100\n",
      "67/67 - 18s - loss: 0.5031 - accuracy: 0.7505 - val_loss: 0.5099 - val_accuracy: 0.7550\n",
      "Epoch 49/100\n",
      "67/67 - 18s - loss: 0.4926 - accuracy: 0.7705 - val_loss: 0.5267 - val_accuracy: 0.7660\n",
      "Epoch 50/100\n",
      "67/67 - 18s - loss: 0.5027 - accuracy: 0.7590 - val_loss: 0.5358 - val_accuracy: 0.7410\n",
      "Epoch 51/100\n",
      "67/67 - 18s - loss: 0.4865 - accuracy: 0.7620 - val_loss: 0.5122 - val_accuracy: 0.7520\n",
      "Epoch 52/100\n",
      "67/67 - 18s - loss: 0.4848 - accuracy: 0.7665 - val_loss: 0.5102 - val_accuracy: 0.7660\n",
      "Epoch 53/100\n",
      "67/67 - 18s - loss: 0.4830 - accuracy: 0.7760 - val_loss: 0.5263 - val_accuracy: 0.7480\n",
      "Epoch 54/100\n",
      "67/67 - 18s - loss: 0.5010 - accuracy: 0.7495 - val_loss: 0.4829 - val_accuracy: 0.7650\n",
      "Epoch 55/100\n",
      "67/67 - 18s - loss: 0.4699 - accuracy: 0.7765 - val_loss: 0.4950 - val_accuracy: 0.7630\n",
      "Epoch 56/100\n",
      "67/67 - 18s - loss: 0.4804 - accuracy: 0.7610 - val_loss: 0.5031 - val_accuracy: 0.7760\n",
      "Epoch 57/100\n",
      "67/67 - 18s - loss: 0.4706 - accuracy: 0.7755 - val_loss: 0.5268 - val_accuracy: 0.7460\n",
      "Epoch 58/100\n",
      "67/67 - 18s - loss: 0.4700 - accuracy: 0.7765 - val_loss: 0.5201 - val_accuracy: 0.7520\n",
      "Epoch 59/100\n",
      "67/67 - 18s - loss: 0.4517 - accuracy: 0.7850 - val_loss: 0.5284 - val_accuracy: 0.7590\n",
      "Epoch 60/100\n",
      "67/67 - 18s - loss: 0.4738 - accuracy: 0.7690 - val_loss: 0.5313 - val_accuracy: 0.7620\n",
      "Epoch 61/100\n",
      "67/67 - 18s - loss: 0.4794 - accuracy: 0.7760 - val_loss: 0.5086 - val_accuracy: 0.7540\n",
      "Epoch 62/100\n",
      "67/67 - 18s - loss: 0.4530 - accuracy: 0.7870 - val_loss: 0.5091 - val_accuracy: 0.7560\n",
      "Epoch 63/100\n",
      "67/67 - 18s - loss: 0.4662 - accuracy: 0.7760 - val_loss: 0.4940 - val_accuracy: 0.7850\n",
      "Epoch 64/100\n",
      "67/67 - 18s - loss: 0.4761 - accuracy: 0.7710 - val_loss: 0.4898 - val_accuracy: 0.7690\n",
      "Epoch 65/100\n",
      "67/67 - 18s - loss: 0.4506 - accuracy: 0.7915 - val_loss: 0.4836 - val_accuracy: 0.7710\n",
      "Epoch 66/100\n",
      "67/67 - 18s - loss: 0.4493 - accuracy: 0.7935 - val_loss: 0.5083 - val_accuracy: 0.7650\n",
      "Epoch 67/100\n",
      "67/67 - 18s - loss: 0.4717 - accuracy: 0.7850 - val_loss: 0.4774 - val_accuracy: 0.7760\n",
      "Epoch 68/100\n",
      "67/67 - 18s - loss: 0.4481 - accuracy: 0.7995 - val_loss: 0.5083 - val_accuracy: 0.7650\n",
      "Epoch 69/100\n",
      "67/67 - 18s - loss: 0.4587 - accuracy: 0.7880 - val_loss: 0.5144 - val_accuracy: 0.7400\n",
      "Epoch 70/100\n",
      "67/67 - 18s - loss: 0.4529 - accuracy: 0.7830 - val_loss: 0.5016 - val_accuracy: 0.7690\n",
      "Epoch 71/100\n",
      "67/67 - 18s - loss: 0.4359 - accuracy: 0.7965 - val_loss: 0.4970 - val_accuracy: 0.7660\n",
      "Epoch 72/100\n",
      "67/67 - 18s - loss: 0.4435 - accuracy: 0.7930 - val_loss: 0.4899 - val_accuracy: 0.7670\n",
      "Epoch 73/100\n",
      "67/67 - 18s - loss: 0.4428 - accuracy: 0.7890 - val_loss: 0.4957 - val_accuracy: 0.7630\n",
      "Epoch 74/100\n",
      "67/67 - 18s - loss: 0.4276 - accuracy: 0.7995 - val_loss: 0.4634 - val_accuracy: 0.7870\n",
      "Epoch 75/100\n",
      "67/67 - 18s - loss: 0.4150 - accuracy: 0.8080 - val_loss: 0.4981 - val_accuracy: 0.7640\n",
      "Epoch 76/100\n",
      "67/67 - 18s - loss: 0.4306 - accuracy: 0.7960 - val_loss: 0.4829 - val_accuracy: 0.7880\n",
      "Epoch 77/100\n",
      "67/67 - 18s - loss: 0.4082 - accuracy: 0.8155 - val_loss: 0.5065 - val_accuracy: 0.7870\n",
      "Epoch 78/100\n",
      "67/67 - 18s - loss: 0.4171 - accuracy: 0.8075 - val_loss: 0.4589 - val_accuracy: 0.7900\n",
      "Epoch 79/100\n",
      "67/67 - 18s - loss: 0.4115 - accuracy: 0.8160 - val_loss: 0.4848 - val_accuracy: 0.7820\n",
      "Epoch 80/100\n",
      "67/67 - 18s - loss: 0.4049 - accuracy: 0.8115 - val_loss: 0.4507 - val_accuracy: 0.7910\n",
      "Epoch 81/100\n",
      "67/67 - 18s - loss: 0.4195 - accuracy: 0.8035 - val_loss: 0.5459 - val_accuracy: 0.7620\n",
      "Epoch 82/100\n",
      "67/67 - 18s - loss: 0.4225 - accuracy: 0.7975 - val_loss: 0.4683 - val_accuracy: 0.7940\n",
      "Epoch 83/100\n",
      "67/67 - 18s - loss: 0.4095 - accuracy: 0.8115 - val_loss: 0.4365 - val_accuracy: 0.7940\n",
      "Epoch 84/100\n",
      "67/67 - 18s - loss: 0.4069 - accuracy: 0.8145 - val_loss: 0.4484 - val_accuracy: 0.7860\n",
      "Epoch 85/100\n",
      "67/67 - 18s - loss: 0.4026 - accuracy: 0.8120 - val_loss: 0.4556 - val_accuracy: 0.7970\n",
      "Epoch 86/100\n",
      "67/67 - 18s - loss: 0.4095 - accuracy: 0.8030 - val_loss: 0.4533 - val_accuracy: 0.8020\n",
      "Epoch 87/100\n",
      "67/67 - 18s - loss: 0.3969 - accuracy: 0.8155 - val_loss: 0.4531 - val_accuracy: 0.7970\n",
      "Epoch 88/100\n",
      "67/67 - 18s - loss: 0.3647 - accuracy: 0.8360 - val_loss: 0.4501 - val_accuracy: 0.8090\n",
      "Epoch 89/100\n",
      "67/67 - 18s - loss: 0.4136 - accuracy: 0.8120 - val_loss: 0.4421 - val_accuracy: 0.7880\n",
      "Epoch 90/100\n",
      "67/67 - 18s - loss: 0.3972 - accuracy: 0.8235 - val_loss: 0.4420 - val_accuracy: 0.7950\n",
      "Epoch 91/100\n",
      "67/67 - 18s - loss: 0.3859 - accuracy: 0.8230 - val_loss: 0.4131 - val_accuracy: 0.8110\n",
      "Epoch 92/100\n",
      "67/67 - 18s - loss: 0.3808 - accuracy: 0.8335 - val_loss: 0.4407 - val_accuracy: 0.8030\n",
      "Epoch 93/100\n",
      "67/67 - 18s - loss: 0.3780 - accuracy: 0.8310 - val_loss: 0.4243 - val_accuracy: 0.8120\n",
      "Epoch 94/100\n",
      "67/67 - 18s - loss: 0.3698 - accuracy: 0.8290 - val_loss: 0.4101 - val_accuracy: 0.8050\n",
      "Epoch 95/100\n",
      "67/67 - 18s - loss: 0.3806 - accuracy: 0.8355 - val_loss: 0.4362 - val_accuracy: 0.7960\n",
      "Epoch 96/100\n",
      "67/67 - 18s - loss: 0.3790 - accuracy: 0.8280 - val_loss: 0.4473 - val_accuracy: 0.7880\n",
      "Epoch 97/100\n",
      "67/67 - 18s - loss: 0.3642 - accuracy: 0.8410 - val_loss: 0.4621 - val_accuracy: 0.8020\n",
      "Epoch 98/100\n",
      "67/67 - 18s - loss: 0.3618 - accuracy: 0.8375 - val_loss: 0.4567 - val_accuracy: 0.8100\n",
      "Epoch 99/100\n",
      "67/67 - 18s - loss: 0.3449 - accuracy: 0.8515 - val_loss: 0.4511 - val_accuracy: 0.8070\n",
      "Epoch 100/100\n",
      "67/67 - 18s - loss: 0.3748 - accuracy: 0.8270 - val_loss: 0.4195 - val_accuracy: 0.8010\n"
     ]
    }
   ],
   "source": [
    "# Fitting the model and saving the output of each epoch in an object named \" history\"\n",
    "\n",
    "history = model.fit(\n",
    "      train_generator_augmented,\n",
    "      steps_per_epoch=67,  # 2000 images = batch_size * steps\n",
    "      epochs=100,\n",
    "      validation_data=validation_generator,\n",
    "      validation_steps=34,  # 1000 images = batch_size * steps\n",
    "      verbose=2)"
   ]
  },
  {
   "cell_type": "code",
   "execution_count": null,
   "metadata": {
    "colab": {
     "base_uri": "https://localhost:8080/",
     "height": 281
    },
    "id": "4y6XKyOo6LII",
    "outputId": "d32d358f-5bde-4195-c2e2-d45c09c5c1da"
   },
   "outputs": [
    {
     "data": {
      "image/png": "[encoded data removed]",
      "text/plain": [
       "<Figure size 432x288 with 1 Axes>"
      ]
     },
     "metadata": {
      "needs_background": "light",
      "tags": []
     },
     "output_type": "display_data"
    }
   ],
   "source": [
    "# Plot the loss and accuracy using the history object\n",
    "\n",
    "import matplotlib.pyplot as plt\n",
    "\n",
    "acc = history.history['accuracy']\n",
    "val_acc = history.history['val_accuracy']\n",
    "loss = history.history['loss']\n",
    "val_loss = history.history['val_loss']\n",
    "\n",
    "epochs = range(0,100)\n",
    "\n",
    "# Plot training vs validation accuracy\n",
    "\n",
    "plt.plot(epochs,acc,'b',label = 'Training accuracy')\n",
    "plt.plot(epochs,val_acc,'r',label = 'Validation accuracy')\n",
    "plt.title(\"Training Vs. Validation Accuracy\")\n",
    "plt.show()\n",
    "\n",
    "\n"
   ]
  },
  {
   "cell_type": "code",
   "execution_count": null,
   "metadata": {
    "colab": {
     "base_uri": "https://localhost:8080/",
     "height": 281
    },
    "id": "eQw3gzVm7tU2",
    "outputId": "6ea33b87-595d-4834-9a5d-914830ef515c"
   },
   "outputs": [
    {
     "data": {
      "image/png": "[encoded data removed]",
      "text/plain": [
       "<Figure size 432x288 with 1 Axes>"
      ]
     },
     "metadata": {
      "needs_background": "light",
      "tags": []
     },
     "output_type": "display_data"
    }
   ],
   "source": [
    "# Plot Training vs. Validation loss\n",
    "\n",
    "\n",
    "plt.plot(epochs,loss,'b',label = 'Training loss')\n",
    "plt.plot(epochs,val_loss,'r',label = 'Validation loss')\n",
    "plt.title(\"Training Vs. Validation Accuracy\")\n",
    "plt.show()\n"
   ]
  },
  {
   "cell_type": "markdown",
   "metadata": {
    "id": "BdG5eKXjMVyW"
   },
   "source": [
    "As seen above the training and validation curves for both accuracy and loss are tracking each other closely. The overfitting problem was been alleviated using Augmentation. \n"
   ]
  },
  {
   "cell_type": "code",
   "execution_count": null,
   "metadata": {
    "id": "MNPpz5Kd3TIK"
   },
   "outputs": [],
   "source": []
  }
 ],
 "metadata": {
  "accelerator": "GPU",
  "colab": {
   "collapsed_sections": [],
   "name": "cat and dogs with Augmentation",
   "provenance": []
  },
  "kernelspec": {
   "display_name": "Python 3",
   "language": "python",
   "name": "python3"
  },
  "language_info": {
   "codemirror_mode": {
    "name": "ipython",
    "version": 3
   },
   "file_extension": ".py",
   "mimetype": "text/x-python",
   "name": "python",
   "nbconvert_exporter": "python",
   "pygments_lexer": "ipython3",
   "version": "3.7.6"
  }
 },
 "nbformat": 4,
 "nbformat_minor": 1
}
