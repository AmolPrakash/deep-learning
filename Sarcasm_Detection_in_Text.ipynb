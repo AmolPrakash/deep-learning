{
 "cells": [
  {
   "cell_type": "markdown",
   "metadata": {
    "id": "LHN7-WjuFYkf"
   },
   "source": [
    "kaggle link for downloading the sarcasm data set:\n",
    "\n",
    "https://www.kaggle.com/rmisra/news-headlines-dataset-for-sarcasm-detection\n",
    "\n",
    "or use the wget command to copy the file from:\n",
    "\n",
    "https://storage.googleapis.com/laurencemoroney-blog.appspot.com/sarcasm.json\n",
    "\n",
    "\n"
   ]
  },
  {
   "cell_type": "code",
   "execution_count": null,
   "metadata": {
    "colab": {
     "base_uri": "https://localhost:8080/",
     "height": 224
    },
    "id": "nx-Uxj9mE-Pa",
    "outputId": "d5520930-272c-4384-ba07-1816f5c98023"
   },
   "outputs": [
    {
     "name": "stdout",
     "output_type": "stream",
     "text": [
      "--2020-08-07 06:45:42--  https://storage.googleapis.com/laurencemoroney-blog.appspot.com/sarcasm.json\n",
      "Resolving storage.googleapis.com (storage.googleapis.com)... 172.217.212.128, 172.217.214.128, 172.253.114.128, ...\n",
      "Connecting to storage.googleapis.com (storage.googleapis.com)|172.217.212.128|:443... connected.\n",
      "HTTP request sent, awaiting response... 200 OK\n",
      "Length: 5643545 (5.4M) [application/json]\n",
      "Saving to: ‘/tmp/sarcasm.json’\n",
      "\n",
      "\r",
      "/tmp/sarcasm.json     0%[                    ]       0  --.-KB/s               \r",
      "/tmp/sarcasm.json   100%[===================>]   5.38M  --.-KB/s    in 0.06s   \n",
      "\n",
      "2020-08-07 06:45:42 (96.8 MB/s) - ‘/tmp/sarcasm.json’ saved [5643545/5643545]\n",
      "\n"
     ]
    }
   ],
   "source": [
    "# Get the sarcasm data set using wget\n",
    "\n",
    "!wget https://storage.googleapis.com/laurencemoroney-blog.appspot.com/sarcasm.json \\\n",
    "      -O /tmp/sarcasm.json\n"
   ]
  },
  {
   "cell_type": "code",
   "execution_count": null,
   "metadata": {
    "id": "w4ewvZyaE7TS"
   },
   "outputs": [],
   "source": [
    "import json"
   ]
  },
  {
   "cell_type": "code",
   "execution_count": null,
   "metadata": {
    "id": "C9YYp-gxFgx4"
   },
   "outputs": [],
   "source": [
    "# Load the data from json file into python data structures\n",
    "\n",
    "with open('/tmp/sarcasm.json') as json_file:\n",
    "  sarcasm_data = json.load(json_file)"
   ]
  },
  {
   "cell_type": "code",
   "execution_count": null,
   "metadata": {
    "colab": {
     "base_uri": "https://localhost:8080/",
     "height": 54
    },
    "id": "GXZzDBfdHF22",
    "outputId": "4ce077b0-c78f-44dd-8023-369c01dfd2fb"
   },
   "outputs": [
    {
     "name": "stdout",
     "output_type": "stream",
     "text": [
      "{'article_link': 'https://www.huffingtonpost.com/entry/versace-black-code_us_5861fbefe4b0de3a08f600d5', 'headline': \"former versace store clerk sues over secret 'black code' for minority shoppers\", 'is_sarcastic': 0}\n"
     ]
    }
   ],
   "source": [
    "print (sarcasm_data[0])\n"
   ]
  },
  {
   "cell_type": "markdown",
   "metadata": {
    "id": "c4k0Dfm8HsJg"
   },
   "source": [
    "sarcasm_data is a list of dictionaries. It is an ideal candate to turn into a pandas dataframe\n"
   ]
  },
  {
   "cell_type": "code",
   "execution_count": null,
   "metadata": {
    "id": "NvPLtKBHHuLT"
   },
   "outputs": [],
   "source": [
    "import pandas as pd\n",
    "\n",
    "sarcasm_data_df = pd.DataFrame(data=sarcasm_data)"
   ]
  },
  {
   "cell_type": "code",
   "execution_count": null,
   "metadata": {
    "colab": {
     "base_uri": "https://localhost:8080/",
     "height": 204
    },
    "id": "x7Z9_7x8H_7m",
    "outputId": "71115742-5061-4947-ebce-1147d3e880e6"
   },
   "outputs": [
    {
     "data": {
      "text/html": [
       "<div>\n",
       "<style scoped>\n",
       "    .dataframe tbody tr th:only-of-type {\n",
       "        vertical-align: middle;\n",
       "    }\n",
       "\n",
       "    .dataframe tbody tr th {\n",
       "        vertical-align: top;\n",
       "    }\n",
       "\n",
       "    .dataframe thead th {\n",
       "        text-align: right;\n",
       "    }\n",
       "</style>\n",
       "<table border=\"1\" class=\"dataframe\">\n",
       "  <thead>\n",
       "    <tr style=\"text-align: right;\">\n",
       "      <th></th>\n",
       "      <th>article_link</th>\n",
       "      <th>headline</th>\n",
       "      <th>is_sarcastic</th>\n",
       "    </tr>\n",
       "  </thead>\n",
       "  <tbody>\n",
       "    <tr>\n",
       "      <th>0</th>\n",
       "      <td>https://www.huffingtonpost.com/entry/versace-b...</td>\n",
       "      <td>former versace store clerk sues over secret 'b...</td>\n",
       "      <td>0</td>\n",
       "    </tr>\n",
       "    <tr>\n",
       "      <th>1</th>\n",
       "      <td>https://www.huffingtonpost.com/entry/roseanne-...</td>\n",
       "      <td>the 'roseanne' revival catches up to our thorn...</td>\n",
       "      <td>0</td>\n",
       "    </tr>\n",
       "    <tr>\n",
       "      <th>2</th>\n",
       "      <td>https://local.theonion.com/mom-starting-to-fea...</td>\n",
       "      <td>mom starting to fear son's web series closest ...</td>\n",
       "      <td>1</td>\n",
       "    </tr>\n",
       "    <tr>\n",
       "      <th>3</th>\n",
       "      <td>https://politics.theonion.com/boehner-just-wan...</td>\n",
       "      <td>boehner just wants wife to listen, not come up...</td>\n",
       "      <td>1</td>\n",
       "    </tr>\n",
       "    <tr>\n",
       "      <th>4</th>\n",
       "      <td>https://www.huffingtonpost.com/entry/jk-rowlin...</td>\n",
       "      <td>j.k. rowling wishes snape happy birthday in th...</td>\n",
       "      <td>0</td>\n",
       "    </tr>\n",
       "  </tbody>\n",
       "</table>\n",
       "</div>"
      ],
      "text/plain": [
       "                                        article_link  ... is_sarcastic\n",
       "0  https://www.huffingtonpost.com/entry/versace-b...  ...            0\n",
       "1  https://www.huffingtonpost.com/entry/roseanne-...  ...            0\n",
       "2  https://local.theonion.com/mom-starting-to-fea...  ...            1\n",
       "3  https://politics.theonion.com/boehner-just-wan...  ...            1\n",
       "4  https://www.huffingtonpost.com/entry/jk-rowlin...  ...            0\n",
       "\n",
       "[5 rows x 3 columns]"
      ]
     },
     "execution_count": 40,
     "metadata": {
      "tags": []
     },
     "output_type": "execute_result"
    }
   ],
   "source": [
    "sarcasm_data_df.head()"
   ]
  },
  {
   "cell_type": "code",
   "execution_count": null,
   "metadata": {
    "colab": {
     "base_uri": "https://localhost:8080/",
     "height": 34
    },
    "id": "3DgS_gnKIeoy",
    "outputId": "ddfc4224-001e-40f8-eb62-14e2648eee31"
   },
   "outputs": [
    {
     "data": {
      "text/plain": [
       "(26709, 3)"
      ]
     },
     "execution_count": 41,
     "metadata": {
      "tags": []
     },
     "output_type": "execute_result"
    }
   ],
   "source": [
    "sarcasm_data_df.shape"
   ]
  },
  {
   "cell_type": "markdown",
   "metadata": {
    "id": "TLhtYFHXISxu"
   },
   "source": [
    "Lets tokenize headlines, we wont be using article_link"
   ]
  },
  {
   "cell_type": "code",
   "execution_count": null,
   "metadata": {
    "id": "px_W-glwGNb-"
   },
   "outputs": [],
   "source": [
    "# Import tensorflow \n",
    "\n",
    "import tensorflow as tf\n",
    "\n",
    "from tensorflow.keras.preprocessing.text import Tokenizer\n",
    "\n",
    "from tensorflow.keras.preprocessing.sequence import pad_sequences\n"
   ]
  },
  {
   "cell_type": "code",
   "execution_count": null,
   "metadata": {
    "id": "hFLDOWCBfhSe"
   },
   "outputs": [],
   "source": [
    "vocab_size = 10000\n",
    "embedding_dim = 32\n",
    "max_length = 100\n",
    "trunc_type='post'\n",
    "padding_type='post'\n",
    "oov_token = \"<NIC>\"\n",
    "training_size = 20000"
   ]
  },
  {
   "cell_type": "code",
   "execution_count": null,
   "metadata": {
    "id": "yzCRvrf4IF26"
   },
   "outputs": [],
   "source": [
    "# Define the tokenizer object\n",
    "\n",
    "tokenizer = Tokenizer(num_words=vocab_size, oov_token = oov_token)\n",
    "\n"
   ]
  },
  {
   "cell_type": "code",
   "execution_count": null,
   "metadata": {
    "id": "0DmkEG8sI49M"
   },
   "outputs": [],
   "source": [
    "# Build the dictionary\n",
    "\n",
    "tokenizer.fit_on_texts(sarcasm_data_df['headline'])"
   ]
  },
  {
   "cell_type": "code",
   "execution_count": null,
   "metadata": {
    "colab": {
     "base_uri": "https://localhost:8080/",
     "height": 34
    },
    "id": "Tkrte1HGJLfQ",
    "outputId": "dc2aa30c-3058-42c3-aaa7-90033fb38772"
   },
   "outputs": [
    {
     "name": "stdout",
     "output_type": "stream",
     "text": [
      "29657\n"
     ]
    }
   ],
   "source": [
    "# Print the number of words in the  corpus\n",
    "\n",
    "print (len(tokenizer.word_index))"
   ]
  },
  {
   "cell_type": "code",
   "execution_count": null,
   "metadata": {
    "id": "Wn4eH3w-JZTU"
   },
   "outputs": [],
   "source": [
    "# Turn text into sequences\n",
    "\n",
    "sequences = tokenizer.texts_to_sequences(sarcasm_data_df['headline'])"
   ]
  },
  {
   "cell_type": "code",
   "execution_count": null,
   "metadata": {
    "colab": {
     "base_uri": "https://localhost:8080/",
     "height": 34
    },
    "id": "tQ5eOIofLRoL",
    "outputId": "b0f70e87-152a-405a-dd48-ea61f95c8115"
   },
   "outputs": [
    {
     "name": "stdout",
     "output_type": "stream",
     "text": [
      "[308, 1, 679, 3337, 2298, 48, 382, 2576, 1, 6, 2577, 8434]\n"
     ]
    }
   ],
   "source": [
    "print (sequences[0])"
   ]
  },
  {
   "cell_type": "code",
   "execution_count": null,
   "metadata": {
    "id": "K0MPG1KwLWJE"
   },
   "outputs": [],
   "source": [
    "# Pad the sequences. Padding should happen after the sentence ends\n",
    "\n",
    "padded_sequences = pad_sequences(sequences,padding=padding_type,truncating=trunc_type,maxlen=max_length)"
   ]
  },
  {
   "cell_type": "code",
   "execution_count": null,
   "metadata": {
    "colab": {
     "base_uri": "https://localhost:8080/",
     "height": 170
    },
    "id": "tRn5rYOkLks5",
    "outputId": "64010826-94ef-47bb-9468-78e9352f941b"
   },
   "outputs": [
    {
     "name": "stdout",
     "output_type": "stream",
     "text": [
      "[308, 1, 679, 3337, 2298, 48, 382, 2576, 1, 6, 2577, 8434]\n",
      "[ 308    1  679 3337 2298   48  382 2576    1    6 2577 8434    0    0\n",
      "    0    0    0    0    0    0    0    0    0    0    0    0    0    0\n",
      "    0    0    0    0    0    0    0    0    0    0    0    0    0    0\n",
      "    0    0    0    0    0    0    0    0    0    0    0    0    0    0\n",
      "    0    0    0    0    0    0    0    0    0    0    0    0    0    0\n",
      "    0    0    0    0    0    0    0    0    0    0    0    0    0    0\n",
      "    0    0    0    0    0    0    0    0    0    0    0    0    0    0\n",
      "    0    0]\n"
     ]
    }
   ],
   "source": [
    "print (sequences[0])\n",
    "print (padded_sequences[0])"
   ]
  },
  {
   "cell_type": "code",
   "execution_count": null,
   "metadata": {
    "colab": {
     "base_uri": "https://localhost:8080/",
     "height": 51
    },
    "id": "qdrbNjYOLxs7",
    "outputId": "c8647db2-fe17-4f1b-a0b3-efc2421efc59"
   },
   "outputs": [
    {
     "name": "stdout",
     "output_type": "stream",
     "text": [
      "100\n",
      "(26709, 100)\n"
     ]
    }
   ],
   "source": [
    "# What is the length of the longest headline?\n",
    "\n",
    "print (len(padded_sequences[0]))\n",
    "\n",
    "print (padded_sequences.shape)\n"
   ]
  },
  {
   "cell_type": "code",
   "execution_count": null,
   "metadata": {
    "id": "aNxpDVFUbh7O"
   },
   "outputs": [],
   "source": [
    "# Lets split the data set into training and testing sets\n",
    "\n",
    "\n",
    "training_padded = padded_sequences[:training_size]\n",
    "training_labels = sarcasm_data_df['is_sarcastic'][:training_size]"
   ]
  },
  {
   "cell_type": "code",
   "execution_count": null,
   "metadata": {
    "colab": {
     "base_uri": "https://localhost:8080/",
     "height": 51
    },
    "id": "jcknHBEZb3Nw",
    "outputId": "11628628-fdfc-4131-855d-0121993d8f6d"
   },
   "outputs": [
    {
     "name": "stdout",
     "output_type": "stream",
     "text": [
      "20000\n",
      "20000\n"
     ]
    }
   ],
   "source": [
    "print(len(training_padded))\n",
    "print(len(training_labels))"
   ]
  },
  {
   "cell_type": "code",
   "execution_count": null,
   "metadata": {
    "id": "HdheMMCieBUo"
   },
   "outputs": [],
   "source": [
    "# Testing data and lables\n",
    "\n",
    "testing_padded = padded_sequences[training_size:]\n",
    "testing_labels = sarcasm_data_df['is_sarcastic'][training_size:]"
   ]
  },
  {
   "cell_type": "code",
   "execution_count": null,
   "metadata": {
    "colab": {
     "base_uri": "https://localhost:8080/"
    },
    "id": "IwosaaF0eViP",
    "outputId": "13c5bdb9-a505-44fc-ba8f-e6b4833d1183"
   },
   "outputs": [
    {
     "name": "stdout",
     "output_type": "stream",
     "text": [
      "6709\n",
      "6709\n"
     ]
    }
   ],
   "source": [
    "print(len(testing_padded))\n",
    "print(len(testing_labels))"
   ]
  },
  {
   "cell_type": "code",
   "execution_count": null,
   "metadata": {
    "id": "ylDzrFnDhGAE"
   },
   "outputs": [],
   "source": [
    "# Define the architecture of Neural Network\n",
    "\n",
    "model = tf.keras.Sequential([\n",
    "                     tf.keras.layers.Embedding(vocab_size,embedding_dim,input_length=max_length),\n",
    "                     tf.keras.layers.Flatten(),\n",
    "                     tf.keras.layers.Dense(64, activation='relu'),\n",
    "                     tf.keras.layers.Dense(1,activation='sigmoid')\n",
    "])"
   ]
  },
  {
   "cell_type": "code",
   "execution_count": null,
   "metadata": {
    "id": "BKXC5I3JlPNl"
   },
   "outputs": [],
   "source": [
    "# Compile the model\n",
    "\n",
    "model.compile(optimizer='adam',loss='binary_crossentropy', metrics=['accuracy'])\n",
    "\n"
   ]
  },
  {
   "cell_type": "code",
   "execution_count": null,
   "metadata": {
    "colab": {
     "base_uri": "https://localhost:8080/",
     "height": 289
    },
    "id": "wZx9PFYLlmod",
    "outputId": "c0b97edd-0b50-4aac-ca4a-9796a70d425d"
   },
   "outputs": [
    {
     "name": "stdout",
     "output_type": "stream",
     "text": [
      "Model: \"sequential_1\"\n",
      "_________________________________________________________________\n",
      "Layer (type)                 Output Shape              Param #   \n",
      "=================================================================\n",
      "embedding_1 (Embedding)      (None, 100, 32)           320000    \n",
      "_________________________________________________________________\n",
      "flatten_1 (Flatten)          (None, 3200)              0         \n",
      "_________________________________________________________________\n",
      "dense_2 (Dense)              (None, 64)                204864    \n",
      "_________________________________________________________________\n",
      "dense_3 (Dense)              (None, 1)                 65        \n",
      "=================================================================\n",
      "Total params: 524,929\n",
      "Trainable params: 524,929\n",
      "Non-trainable params: 0\n",
      "_________________________________________________________________\n"
     ]
    }
   ],
   "source": [
    "model.summary()"
   ]
  },
  {
   "cell_type": "code",
   "execution_count": null,
   "metadata": {
    "colab": {
     "base_uri": "https://localhost:8080/",
     "height": 1000
    },
    "id": "8Iu62C9ZlrP5",
    "outputId": "3329e236-2677-454d-f762-ed819a1e9fcd"
   },
   "outputs": [
    {
     "name": "stdout",
     "output_type": "stream",
     "text": [
      "Epoch 1/30\n",
      "625/625 [==============================] - 5s 8ms/step - loss: 0.4141 - accuracy: 0.7948 - val_loss: 0.3064 - val_accuracy: 0.8641\n",
      "Epoch 2/30\n",
      "625/625 [==============================] - 5s 8ms/step - loss: 0.1723 - accuracy: 0.9352 - val_loss: 0.3438 - val_accuracy: 0.8614\n",
      "Epoch 3/30\n",
      "625/625 [==============================] - 5s 7ms/step - loss: 0.0678 - accuracy: 0.9788 - val_loss: 0.4226 - val_accuracy: 0.8580\n",
      "Epoch 4/30\n",
      "625/625 [==============================] - 5s 7ms/step - loss: 0.0211 - accuracy: 0.9953 - val_loss: 0.5461 - val_accuracy: 0.8509\n",
      "Epoch 5/30\n",
      "625/625 [==============================] - 5s 7ms/step - loss: 0.0066 - accuracy: 0.9991 - val_loss: 0.6165 - val_accuracy: 0.8518\n",
      "Epoch 6/30\n",
      "625/625 [==============================] - 5s 7ms/step - loss: 0.0032 - accuracy: 0.9995 - val_loss: 0.6620 - val_accuracy: 0.8521\n",
      "Epoch 7/30\n",
      "625/625 [==============================] - 5s 7ms/step - loss: 0.0019 - accuracy: 0.9995 - val_loss: 0.7095 - val_accuracy: 0.8504\n",
      "Epoch 8/30\n",
      "625/625 [==============================] - 5s 7ms/step - loss: 0.0013 - accuracy: 0.9997 - val_loss: 0.7356 - val_accuracy: 0.8506\n",
      "Epoch 9/30\n",
      "625/625 [==============================] - 5s 8ms/step - loss: 0.0010 - accuracy: 0.9997 - val_loss: 0.8081 - val_accuracy: 0.8462\n",
      "Epoch 10/30\n",
      "625/625 [==============================] - 5s 7ms/step - loss: 0.0013 - accuracy: 0.9997 - val_loss: 0.8328 - val_accuracy: 0.8523\n",
      "Epoch 11/30\n",
      "625/625 [==============================] - 5s 8ms/step - loss: 0.0012 - accuracy: 0.9997 - val_loss: 0.8780 - val_accuracy: 0.8489\n",
      "Epoch 12/30\n",
      "625/625 [==============================] - 5s 8ms/step - loss: 0.0018 - accuracy: 0.9995 - val_loss: 0.9323 - val_accuracy: 0.8498\n",
      "Epoch 13/30\n",
      "625/625 [==============================] - 5s 7ms/step - loss: 0.0021 - accuracy: 0.9992 - val_loss: 0.9785 - val_accuracy: 0.8489\n",
      "Epoch 14/30\n",
      "625/625 [==============================] - 5s 8ms/step - loss: 0.0016 - accuracy: 0.9994 - val_loss: 1.0995 - val_accuracy: 0.8405\n",
      "Epoch 15/30\n",
      "625/625 [==============================] - 5s 8ms/step - loss: 0.0011 - accuracy: 0.9996 - val_loss: 1.1690 - val_accuracy: 0.8425\n",
      "Epoch 16/30\n",
      "625/625 [==============================] - 5s 7ms/step - loss: 8.5707e-04 - accuracy: 0.9997 - val_loss: 1.1827 - val_accuracy: 0.8448\n",
      "Epoch 17/30\n",
      "625/625 [==============================] - 5s 8ms/step - loss: 0.0010 - accuracy: 0.9996 - val_loss: 1.1618 - val_accuracy: 0.8433\n",
      "Epoch 18/30\n",
      "625/625 [==============================] - 5s 7ms/step - loss: 0.0014 - accuracy: 0.9996 - val_loss: 1.1926 - val_accuracy: 0.8401\n",
      "Epoch 19/30\n",
      "625/625 [==============================] - 5s 7ms/step - loss: 0.0012 - accuracy: 0.9997 - val_loss: 1.2206 - val_accuracy: 0.8420\n",
      "Epoch 20/30\n",
      "625/625 [==============================] - 5s 8ms/step - loss: 0.0019 - accuracy: 0.9995 - val_loss: 1.2990 - val_accuracy: 0.8360\n",
      "Epoch 21/30\n",
      "625/625 [==============================] - 5s 7ms/step - loss: 0.0013 - accuracy: 0.9996 - val_loss: 1.4284 - val_accuracy: 0.8341\n",
      "Epoch 22/30\n",
      "625/625 [==============================] - 5s 8ms/step - loss: 0.0010 - accuracy: 0.9995 - val_loss: 1.2968 - val_accuracy: 0.8378\n",
      "Epoch 23/30\n",
      "625/625 [==============================] - 5s 7ms/step - loss: 6.8532e-04 - accuracy: 0.9998 - val_loss: 1.2797 - val_accuracy: 0.8396\n",
      "Epoch 24/30\n",
      "625/625 [==============================] - 5s 8ms/step - loss: 9.8346e-04 - accuracy: 0.9998 - val_loss: 1.4054 - val_accuracy: 0.8348\n",
      "Epoch 25/30\n",
      "625/625 [==============================] - 5s 8ms/step - loss: 6.6808e-04 - accuracy: 0.9998 - val_loss: 1.4294 - val_accuracy: 0.8341\n",
      "Epoch 26/30\n",
      "625/625 [==============================] - 5s 8ms/step - loss: 0.0012 - accuracy: 0.9995 - val_loss: 1.1725 - val_accuracy: 0.8307\n",
      "Epoch 27/30\n",
      "625/625 [==============================] - 5s 7ms/step - loss: 7.6969e-04 - accuracy: 0.9998 - val_loss: 1.4053 - val_accuracy: 0.8378\n",
      "Epoch 28/30\n",
      "625/625 [==============================] - 5s 8ms/step - loss: 9.9314e-04 - accuracy: 0.9997 - val_loss: 1.3425 - val_accuracy: 0.8380\n",
      "Epoch 29/30\n",
      "625/625 [==============================] - 5s 7ms/step - loss: 0.0012 - accuracy: 0.9996 - val_loss: 1.8653 - val_accuracy: 0.8210\n",
      "Epoch 30/30\n",
      "625/625 [==============================] - 5s 7ms/step - loss: 0.0010 - accuracy: 0.9997 - val_loss: 1.3583 - val_accuracy: 0.8341\n"
     ]
    }
   ],
   "source": [
    "# Fit the data into the model\n",
    "\n",
    "history = model.fit(training_padded,\n",
    "          training_labels,\n",
    "          epochs=30,\n",
    "          validation_data=(testing_padded,testing_labels))"
   ]
  },
  {
   "cell_type": "code",
   "execution_count": null,
   "metadata": {
    "colab": {
     "base_uri": "https://localhost:8080/",
     "height": 265
    },
    "id": "s0xwy0CCnK-O",
    "outputId": "389f2db3-0a85-4cf3-cc3c-7f167b3fd6ac"
   },
   "outputs": [
    {
     "data": {
      "image/png": "[encoded data removed]",
      "text/plain": [
       "<Figure size 432x288 with 1 Axes>"
      ]
     },
     "metadata": {
      "needs_background": "light",
      "tags": []
     },
     "output_type": "display_data"
    }
   ],
   "source": [
    "import matplotlib.pyplot as plt\n",
    "\n",
    "\n",
    "acc = history.history['accuracy']\n",
    "loss = history.history['loss']\n",
    "val_acc = history.history['val_accuracy']\n",
    "val_loss = history.history['val_loss']\n",
    "\n",
    "epochs = range(len(acc))\n",
    "\n",
    "plt.plot(epochs,acc,'r',label='Training Accuracy')\n",
    "plt.plot(epochs, val_acc, 'b',label='Validation Accuracy')\n",
    "plt.legend()\n",
    "plt.show()"
   ]
  },
  {
   "cell_type": "code",
   "execution_count": null,
   "metadata": {
    "colab": {
     "base_uri": "https://localhost:8080/",
     "height": 265
    },
    "id": "Qpo6lT1snmro",
    "outputId": "444814cf-2585-4b34-85a8-43fc6a93c567"
   },
   "outputs": [
    {
     "data": {
      "image/png": "[encoded data removed]",
      "text/plain": [
       "<Figure size 432x288 with 1 Axes>"
      ]
     },
     "metadata": {
      "needs_background": "light",
      "tags": []
     },
     "output_type": "display_data"
    }
   ],
   "source": [
    "plt.plot(epochs,loss,'r', label = 'Training loss')\n",
    "plt.plot(epochs, val_loss, 'b', label = 'Validation loss')\n",
    "plt.legend()\n",
    "plt.show()"
   ]
  },
  {
   "cell_type": "markdown",
   "metadata": {
    "id": "ZcWPKcRlpVnY"
   },
   "source": [
    "As seen above the loss validation accuracy and validation loss actually deterioate after the first few epochs."
   ]
  },
  {
   "cell_type": "markdown",
   "metadata": {
    "id": "PMH9nsYvrkTB"
   },
   "source": [
    "Loss is the amount of confidence you have in your predicition. An increasing loss represents that  decreasing confidence in the acuuracy of your predictions. This is a common problem with NLP applications.\n",
    "\n",
    "Try to find a set of hyper parameters which gives a training accuracy of 90% or more with a stable loss.\n"
   ]
  },
  {
   "cell_type": "code",
   "execution_count": null,
   "metadata": {
    "id": "Kc1bn20asAgF"
   },
   "outputs": [],
   "source": []
  }
 ],
 "metadata": {
  "accelerator": "GPU",
  "colab": {
   "collapsed_sections": [],
   "name": "Sarcasm Detection in Text.ipynb",
   "provenance": []
  },
  "kernelspec": {
   "display_name": "Python 3",
   "language": "python",
   "name": "python3"
  },
  "language_info": {
   "codemirror_mode": {
    "name": "ipython",
    "version": 3
   },
   "file_extension": ".py",
   "mimetype": "text/x-python",
   "name": "python",
   "nbconvert_exporter": "python",
   "pygments_lexer": "ipython3",
   "version": "3.7.6"
  }
 },
 "nbformat": 4,
 "nbformat_minor": 1
}
