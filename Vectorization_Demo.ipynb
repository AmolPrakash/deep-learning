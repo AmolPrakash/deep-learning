{
 "cells": [
  {
   "cell_type": "code",
   "execution_count": 2,
   "metadata": {
    "id": "jurBi0yiZgvi"
   },
   "outputs": [],
   "source": [
    "import time\n",
    "import numpy as np\n"
   ]
  },
  {
   "cell_type": "code",
   "execution_count": 3,
   "metadata": {
    "colab": {
     "base_uri": "https://localhost:8080/",
     "height": 51
    },
    "id": "j6J2tnQBZl0x",
    "outputId": "e51a30a3-a10c-4e2b-8683-4fe4d80c3431"
   },
   "outputs": [
    {
     "name": "stdout",
     "output_type": "stream",
     "text": [
      "333332833333500999\n",
      "Time taken in ms :  2.495288848876953\n"
     ]
    }
   ],
   "source": [
    "w = np.arange(1000000)\n",
    "x = np.arange(1000000)\n",
    "b = 999\n",
    "\n",
    "start = time.time()\n",
    "z = np.dot(w.T,x)+b\n",
    "print (z)\n",
    "end = time.time()\n",
    "\n",
    "print('Time taken in ms : ', 1000* (end-start))"
   ]
  },
  {
   "cell_type": "code",
   "execution_count": 4,
   "metadata": {
    "colab": {
     "base_uri": "https://localhost:8080/",
     "height": 51
    },
    "id": "yjUm1wpPaPQc",
    "outputId": "f44bd9d6-2b58-4370-aaed-fd8388c7475c"
   },
   "outputs": [
    {
     "name": "stdout",
     "output_type": "stream",
     "text": [
      "333332833333500999\n",
      "Time taken in ms :  522.9501724243164\n"
     ]
    }
   ],
   "source": [
    "c=0\n",
    "start = time.time()\n",
    "for i in range(1000000):\n",
    "  c+= w[i]*x[i]\n",
    "c+=b\n",
    "print (c)\n",
    "end = time.time()\n",
    "\n",
    "print('Time taken in ms : ', 1000* (end-start))"
   ]
  },
  {
   "cell_type": "code",
   "execution_count": null,
   "metadata": {},
   "outputs": [],
   "source": []
  }
 ],
 "metadata": {
  "colab": {
   "collapsed_sections": [],
   "name": "Vectorization Demo.ipynb",
   "provenance": []
  },
  "kernelspec": {
   "display_name": "Python 3",
   "language": "python",
   "name": "python3"
  },
  "language_info": {
   "codemirror_mode": {
    "name": "ipython",
    "version": 3
   },
   "file_extension": ".py",
   "mimetype": "text/x-python",
   "name": "python",
   "nbconvert_exporter": "python",
   "pygments_lexer": "ipython3",
   "version": "3.7.6"
  }
 },
 "nbformat": 4,
 "nbformat_minor": 1
}
