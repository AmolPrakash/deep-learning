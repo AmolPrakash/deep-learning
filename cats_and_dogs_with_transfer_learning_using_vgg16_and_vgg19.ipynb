{
 "cells": [
  {
   "cell_type": "code",
   "execution_count": null,
   "metadata": {
    "id": "t816RYM2-5SM"
   },
   "outputs": [],
   "source": [
    "import tensorflow as tf\n",
    "import numpy as np\n",
    "import pandas as pd"
   ]
  },
  {
   "cell_type": "code",
   "execution_count": null,
   "metadata": {
    "id": "POYl88lc_73s"
   },
   "outputs": [],
   "source": [
    "# create  an object using Vgg16 architecture\n",
    "\n",
    "vgg16_model = tf.keras.applications.vgg16.VGG16(input_shape=(150,150,3), \n",
    "                                                    include_top=False,  # Loads only convolutional layers, not the dense layers on top\n",
    "                                                    weights='imagenet'  # Loads weights from imagenet\n",
    "                                                    )\n",
    "\n"
   ]
  },
  {
   "cell_type": "code",
   "execution_count": null,
   "metadata": {
    "id": "MahDc27QBBDB"
   },
   "outputs": [],
   "source": [
    "# Make convolutional layers untrainable\n",
    "\n",
    "  for layer in vgg16_model.layers:\n",
    "    layer.trainable = False\n",
    "\n",
    "  "
   ]
  },
  {
   "cell_type": "code",
   "execution_count": null,
   "metadata": {
    "colab": {
     "base_uri": "https://localhost:8080/",
     "height": 816
    },
    "id": "G_sRmg6MBjxA",
    "outputId": "bd7c9a0e-8d43-4904-d1bf-2df2a0f3a05a"
   },
   "outputs": [
    {
     "name": "stdout",
     "output_type": "stream",
     "text": [
      "Model: \"vgg16\"\n",
      "_________________________________________________________________\n",
      "Layer (type)                 Output Shape              Param #   \n",
      "=================================================================\n",
      "input_2 (InputLayer)         [(None, 150, 150, 3)]     0         \n",
      "_________________________________________________________________\n",
      "block1_conv1 (Conv2D)        (None, 150, 150, 64)      1792      \n",
      "_________________________________________________________________\n",
      "block1_conv2 (Conv2D)        (None, 150, 150, 64)      36928     \n",
      "_________________________________________________________________\n",
      "block1_pool (MaxPooling2D)   (None, 75, 75, 64)        0         \n",
      "_________________________________________________________________\n",
      "block2_conv1 (Conv2D)        (None, 75, 75, 128)       73856     \n",
      "_________________________________________________________________\n",
      "block2_conv2 (Conv2D)        (None, 75, 75, 128)       147584    \n",
      "_________________________________________________________________\n",
      "block2_pool (MaxPooling2D)   (None, 37, 37, 128)       0         \n",
      "_________________________________________________________________\n",
      "block3_conv1 (Conv2D)        (None, 37, 37, 256)       295168    \n",
      "_________________________________________________________________\n",
      "block3_conv2 (Conv2D)        (None, 37, 37, 256)       590080    \n",
      "_________________________________________________________________\n",
      "block3_conv3 (Conv2D)        (None, 37, 37, 256)       590080    \n",
      "_________________________________________________________________\n",
      "block3_pool (MaxPooling2D)   (None, 18, 18, 256)       0         \n",
      "_________________________________________________________________\n",
      "block4_conv1 (Conv2D)        (None, 18, 18, 512)       1180160   \n",
      "_________________________________________________________________\n",
      "block4_conv2 (Conv2D)        (None, 18, 18, 512)       2359808   \n",
      "_________________________________________________________________\n",
      "block4_conv3 (Conv2D)        (None, 18, 18, 512)       2359808   \n",
      "_________________________________________________________________\n",
      "block4_pool (MaxPooling2D)   (None, 9, 9, 512)         0         \n",
      "_________________________________________________________________\n",
      "block5_conv1 (Conv2D)        (None, 9, 9, 512)         2359808   \n",
      "_________________________________________________________________\n",
      "block5_conv2 (Conv2D)        (None, 9, 9, 512)         2359808   \n",
      "_________________________________________________________________\n",
      "block5_conv3 (Conv2D)        (None, 9, 9, 512)         2359808   \n",
      "_________________________________________________________________\n",
      "block5_pool (MaxPooling2D)   (None, 4, 4, 512)         0         \n",
      "=================================================================\n",
      "Total params: 14,714,688\n",
      "Trainable params: 0\n",
      "Non-trainable params: 14,714,688\n",
      "_________________________________________________________________\n"
     ]
    }
   ],
   "source": [
    "# Study the architecture\n",
    "\n",
    "vgg16_model.summary()\n",
    "\n",
    "# Documentation available at: https://keras.io/api/applications/inceptionv3/\n",
    "\n",
    "\n"
   ]
  },
  {
   "cell_type": "markdown",
   "metadata": {
    "id": "g6vro2NLCQJI"
   },
   "source": [
    "Pick a layer whose ouputput can be fed into a dense layer that we will train using the cats-v-dogs images.\n",
    "I will go with block5_pool (MaxPooling2D)"
   ]
  },
  {
   "cell_type": "code",
   "execution_count": null,
   "metadata": {
    "colab": {
     "base_uri": "https://localhost:8080/",
     "height": 34
    },
    "id": "v11M_WnRCEwO",
    "outputId": "d427189d-5ad6-4f71-a7f8-3e360f9270b8"
   },
   "outputs": [
    {
     "name": "stdout",
     "output_type": "stream",
     "text": [
      "shape of block5_pool : (None, 4, 4, 512)\n"
     ]
    }
   ],
   "source": [
    "#  Check the output of block5_pool \n",
    "\n",
    "vgg16_model_block5_pool = vgg16_model.get_layer('block5_pool')\n",
    "\n",
    "print ('shape of block5_pool :',vgg16_model_block5_pool.output_shape )\n",
    "\n",
    "\n"
   ]
  },
  {
   "cell_type": "code",
   "execution_count": null,
   "metadata": {
    "id": "WGVbE7o6DT8C"
   },
   "outputs": [],
   "source": [
    "# capture the output of mixed6 layer\n",
    "\n",
    "vgg16_model_output = vgg16_model_block5_pool.output\n"
   ]
  },
  {
   "cell_type": "code",
   "execution_count": null,
   "metadata": {
    "id": "gMhK6PjrJ-wq"
   },
   "outputs": [],
   "source": [
    "# Build you own dense layer\n",
    "\n",
    "# Flatten the output of the inception model\n",
    "custom_dense_layer = tf.keras.layers.Flatten()(vgg16_model_output)\n",
    "\n",
    "# Add a dense layer of 1024 neurons with relu activation\n",
    "\n",
    "custom_dense_layer = tf.keras.layers.Dense(1024,activation='relu') (custom_dense_layer)\n",
    "\n",
    "# Add an output layer with 1 neuron (binary classification) with sigmoid activation\n",
    "\n",
    "custom_dense_layer = tf.keras.layers.Dense(1,activation='sigmoid') (custom_dense_layer)\n"
   ]
  },
  {
   "cell_type": "code",
   "execution_count": null,
   "metadata": {
    "id": "txKu4YxFQb51"
   },
   "outputs": [],
   "source": [
    "# Build a new model object comprising of the inception model and custom dense layer\n",
    "\n",
    "model = tf.keras.Model(vgg16_model.input,custom_dense_layer)"
   ]
  },
  {
   "cell_type": "code",
   "execution_count": null,
   "metadata": {
    "id": "v-ybZlocQ0mg"
   },
   "outputs": [],
   "source": [
    "# compile with model\n",
    "\n",
    "model.compile(optimizer='adam',\n",
    "              loss = 'binary_crossentropy',\n",
    "              metrics=['accuracy'])"
   ]
  },
  {
   "cell_type": "code",
   "execution_count": null,
   "metadata": {
    "colab": {
     "base_uri": "https://localhost:8080/",
     "height": 920
    },
    "id": "re9z9pP8REBB",
    "outputId": "72063ae8-45bc-468b-c426-006d6c310bc7"
   },
   "outputs": [
    {
     "name": "stdout",
     "output_type": "stream",
     "text": [
      "Model: \"functional_1\"\n",
      "_________________________________________________________________\n",
      "Layer (type)                 Output Shape              Param #   \n",
      "=================================================================\n",
      "input_2 (InputLayer)         [(None, 150, 150, 3)]     0         \n",
      "_________________________________________________________________\n",
      "block1_conv1 (Conv2D)        (None, 150, 150, 64)      1792      \n",
      "_________________________________________________________________\n",
      "block1_conv2 (Conv2D)        (None, 150, 150, 64)      36928     \n",
      "_________________________________________________________________\n",
      "block1_pool (MaxPooling2D)   (None, 75, 75, 64)        0         \n",
      "_________________________________________________________________\n",
      "block2_conv1 (Conv2D)        (None, 75, 75, 128)       73856     \n",
      "_________________________________________________________________\n",
      "block2_conv2 (Conv2D)        (None, 75, 75, 128)       147584    \n",
      "_________________________________________________________________\n",
      "block2_pool (MaxPooling2D)   (None, 37, 37, 128)       0         \n",
      "_________________________________________________________________\n",
      "block3_conv1 (Conv2D)        (None, 37, 37, 256)       295168    \n",
      "_________________________________________________________________\n",
      "block3_conv2 (Conv2D)        (None, 37, 37, 256)       590080    \n",
      "_________________________________________________________________\n",
      "block3_conv3 (Conv2D)        (None, 37, 37, 256)       590080    \n",
      "_________________________________________________________________\n",
      "block3_pool (MaxPooling2D)   (None, 18, 18, 256)       0         \n",
      "_________________________________________________________________\n",
      "block4_conv1 (Conv2D)        (None, 18, 18, 512)       1180160   \n",
      "_________________________________________________________________\n",
      "block4_conv2 (Conv2D)        (None, 18, 18, 512)       2359808   \n",
      "_________________________________________________________________\n",
      "block4_conv3 (Conv2D)        (None, 18, 18, 512)       2359808   \n",
      "_________________________________________________________________\n",
      "block4_pool (MaxPooling2D)   (None, 9, 9, 512)         0         \n",
      "_________________________________________________________________\n",
      "block5_conv1 (Conv2D)        (None, 9, 9, 512)         2359808   \n",
      "_________________________________________________________________\n",
      "block5_conv2 (Conv2D)        (None, 9, 9, 512)         2359808   \n",
      "_________________________________________________________________\n",
      "block5_conv3 (Conv2D)        (None, 9, 9, 512)         2359808   \n",
      "_________________________________________________________________\n",
      "block5_pool (MaxPooling2D)   (None, 4, 4, 512)         0         \n",
      "_________________________________________________________________\n",
      "flatten (Flatten)            (None, 8192)              0         \n",
      "_________________________________________________________________\n",
      "dense (Dense)                (None, 1024)              8389632   \n",
      "_________________________________________________________________\n",
      "dense_1 (Dense)              (None, 1)                 1025      \n",
      "=================================================================\n",
      "Total params: 23,105,345\n",
      "Trainable params: 8,390,657\n",
      "Non-trainable params: 14,714,688\n",
      "_________________________________________________________________\n"
     ]
    }
   ],
   "source": [
    "# Check out the summary\n",
    "\n",
    "model.summary()"
   ]
  },
  {
   "cell_type": "code",
   "execution_count": null,
   "metadata": {
    "colab": {
     "base_uri": "https://localhost:8080/",
     "height": 208
    },
    "id": "CGcy3hJHSERY",
    "outputId": "f3d01b5d-50e3-46a0-92ab-8e857f7ccdab"
   },
   "outputs": [
    {
     "name": "stdout",
     "output_type": "stream",
     "text": [
      "--2020-10-22 07:03:01--  https://storage.googleapis.com/mledu-datasets/cats_and_dogs_filtered.zip\n",
      "Resolving storage.googleapis.com (storage.googleapis.com)... 172.217.9.208, 172.217.12.240, 172.217.13.240, ...\n",
      "Connecting to storage.googleapis.com (storage.googleapis.com)|172.217.9.208|:443... connected.\n",
      "HTTP request sent, awaiting response... 200 OK\n",
      "Length: 68606236 (65M) [application/zip]\n",
      "Saving to: ‘/tmp/cats_and_dogs_filtered.zip’\n",
      "\n",
      "/tmp/cats_and_dogs_ 100%[===================>]  65.43M  95.2MB/s    in 0.7s    \n",
      "\n",
      "2020-10-22 07:03:02 (95.2 MB/s) - ‘/tmp/cats_and_dogs_filtered.zip’ saved [68606236/68606236]\n",
      "\n"
     ]
    }
   ],
   "source": [
    "# Get cats and dogs data set and unzip it\n",
    "\n",
    "!wget --no-check-certificate \\\n",
    "    https://storage.googleapis.com/mledu-datasets/cats_and_dogs_filtered.zip \\\n",
    "    -O /tmp/cats_and_dogs_filtered.zip\n",
    "\n",
    "import zipfile\n",
    "local_zip = '/tmp/cats_and_dogs_filtered.zip'\n",
    "zip_ref = zipfile.ZipFile(local_zip, 'r')\n",
    "zip_ref.extractall('/tmp')\n",
    "zip_ref.close()\n"
   ]
  },
  {
   "cell_type": "code",
   "execution_count": null,
   "metadata": {
    "colab": {
     "base_uri": "https://localhost:8080/",
     "height": 34
    },
    "id": "tBGS8xX8Sl7k",
    "outputId": "470e60ec-f7b2-42f9-a20f-229ae18cdc2b"
   },
   "outputs": [
    {
     "name": "stdout",
     "output_type": "stream",
     "text": [
      "Found 2000 images belonging to 2 classes.\n"
     ]
    }
   ],
   "source": [
    "# Build a training using Augmentation\n",
    "\n",
    "from tensorflow.keras.preprocessing.image import ImageDataGenerator\n",
    "\n",
    "\n",
    "train_datagen_augmented = ImageDataGenerator(\n",
    "      rescale=1./255,\n",
    "      rotation_range=30,        # rotation_range is a value in degrees (0–180), a range within which to randomly rotate pictures\n",
    "      width_shift_range=0.3,    # width_shift is a range (fraction of total width) within  which the picture is  horizontally translated\n",
    "      height_shift_range=0.3,   # height_shift is a range (fraction of total heigth) within  which the picture is  vertically translated\n",
    "      shear_range=0.3,          # shear_range is for randomly applying shearing transformations.\n",
    "      zoom_range=0.3,           # zoom_range is for randomly zooming inside pictures\n",
    "      horizontal_flip=True,     # Horizontal_flip is for randomly flipping half of the images horizontally.\n",
    "      fill_mode='nearest' )     # strategy used for filling in newly created pixels\n",
    "\n",
    "\n",
    "\n",
    "training_images_path = '/tmp/cats_and_dogs_filtered/train'\n",
    "\n",
    "train_generator_augmented = train_datagen_augmented.flow_from_directory(\n",
    "    training_images_path, \n",
    "    target_size=(150, 150), # resize images to 150 x 150\n",
    "    batch_size = 20, \n",
    "    class_mode='binary' # This is a binary classifier cats and dogs\n",
    ")\n",
    "\n"
   ]
  },
  {
   "cell_type": "code",
   "execution_count": null,
   "metadata": {
    "colab": {
     "base_uri": "https://localhost:8080/",
     "height": 34
    },
    "id": "VP9DeD6rTAfu",
    "outputId": "55f51ec3-dcea-4201-ce8a-2be4561260cc"
   },
   "outputs": [
    {
     "name": "stdout",
     "output_type": "stream",
     "text": [
      "Found 1000 images belonging to 2 classes.\n"
     ]
    }
   ],
   "source": [
    "# Build a validation generator\n",
    "\n",
    "validation_datagen = ImageDataGenerator(rescale=1.0/255.0)\n",
    "\n",
    "validation_images_path = '/tmp/cats_and_dogs_filtered/validation'\n",
    "\n",
    "validation_generator = validation_datagen.flow_from_directory(\n",
    "    validation_images_path, \n",
    "    target_size=(150, 150), # resize images to 150 x 150\n",
    "    batch_size = 20, \n",
    "    class_mode='binary' # This is a binary classifier cats and dogs\n",
    ")"
   ]
  },
  {
   "cell_type": "code",
   "execution_count": null,
   "metadata": {
    "colab": {
     "base_uri": "https://localhost:8080/",
     "height": 1000
    },
    "id": "R_ZU2CmWTYvR",
    "outputId": "80903f16-c06f-4fcd-8673-99d40ef04929"
   },
   "outputs": [
    {
     "name": "stdout",
     "output_type": "stream",
     "text": [
      "Epoch 1/100\n",
      "100/100 - 18s - loss: 0.2020 - accuracy: 0.9190 - val_loss: 0.3035 - val_accuracy: 0.8960\n",
      "Epoch 2/100\n",
      "100/100 - 18s - loss: 0.2013 - accuracy: 0.9095 - val_loss: 0.2732 - val_accuracy: 0.9040\n",
      "Epoch 3/100\n",
      "100/100 - 18s - loss: 0.2158 - accuracy: 0.9055 - val_loss: 0.2908 - val_accuracy: 0.8980\n",
      "Epoch 4/100\n",
      "100/100 - 18s - loss: 0.2127 - accuracy: 0.9115 - val_loss: 0.2894 - val_accuracy: 0.8960\n",
      "Epoch 5/100\n",
      "100/100 - 18s - loss: 0.2071 - accuracy: 0.9105 - val_loss: 0.2840 - val_accuracy: 0.9070\n",
      "Epoch 6/100\n",
      "100/100 - 18s - loss: 0.2105 - accuracy: 0.9085 - val_loss: 0.2988 - val_accuracy: 0.8930\n",
      "Epoch 7/100\n",
      "100/100 - 18s - loss: 0.2032 - accuracy: 0.9085 - val_loss: 0.3021 - val_accuracy: 0.8930\n",
      "Epoch 8/100\n",
      "100/100 - 18s - loss: 0.1969 - accuracy: 0.9165 - val_loss: 0.2775 - val_accuracy: 0.9080\n",
      "Epoch 9/100\n",
      "100/100 - 18s - loss: 0.2021 - accuracy: 0.9160 - val_loss: 0.2891 - val_accuracy: 0.9090\n",
      "Epoch 10/100\n",
      "100/100 - 18s - loss: 0.2089 - accuracy: 0.9060 - val_loss: 0.3017 - val_accuracy: 0.8930\n",
      "Epoch 11/100\n",
      "100/100 - 18s - loss: 0.2210 - accuracy: 0.9080 - val_loss: 0.3691 - val_accuracy: 0.8680\n",
      "Epoch 12/100\n",
      "100/100 - 18s - loss: 0.2048 - accuracy: 0.9115 - val_loss: 0.2785 - val_accuracy: 0.9110\n",
      "Epoch 13/100\n",
      "100/100 - 18s - loss: 0.1986 - accuracy: 0.9160 - val_loss: 0.3426 - val_accuracy: 0.8940\n",
      "Epoch 14/100\n",
      "100/100 - 18s - loss: 0.1975 - accuracy: 0.9115 - val_loss: 0.2844 - val_accuracy: 0.9060\n",
      "Epoch 15/100\n",
      "100/100 - 18s - loss: 0.2100 - accuracy: 0.9125 - val_loss: 0.2770 - val_accuracy: 0.9080\n",
      "Epoch 16/100\n",
      "100/100 - 18s - loss: 0.2167 - accuracy: 0.9065 - val_loss: 0.2773 - val_accuracy: 0.9090\n",
      "Epoch 17/100\n",
      "100/100 - 18s - loss: 0.2075 - accuracy: 0.9145 - val_loss: 0.2868 - val_accuracy: 0.9050\n",
      "Epoch 18/100\n",
      "100/100 - 18s - loss: 0.1863 - accuracy: 0.9230 - val_loss: 0.2921 - val_accuracy: 0.9090\n",
      "Epoch 19/100\n",
      "100/100 - 18s - loss: 0.2018 - accuracy: 0.9130 - val_loss: 0.2762 - val_accuracy: 0.9110\n",
      "Epoch 20/100\n",
      "100/100 - 18s - loss: 0.2043 - accuracy: 0.9190 - val_loss: 0.2763 - val_accuracy: 0.9110\n",
      "Epoch 21/100\n",
      "100/100 - 18s - loss: 0.1975 - accuracy: 0.9150 - val_loss: 0.2979 - val_accuracy: 0.9070\n",
      "Epoch 22/100\n",
      "100/100 - 18s - loss: 0.1752 - accuracy: 0.9225 - val_loss: 0.3012 - val_accuracy: 0.9040\n",
      "Epoch 23/100\n",
      "100/100 - 18s - loss: 0.2080 - accuracy: 0.9105 - val_loss: 0.3380 - val_accuracy: 0.8910\n",
      "Epoch 24/100\n",
      "100/100 - 18s - loss: 0.2108 - accuracy: 0.9100 - val_loss: 0.3344 - val_accuracy: 0.8920\n",
      "Epoch 25/100\n",
      "100/100 - 18s - loss: 0.1929 - accuracy: 0.9185 - val_loss: 0.3029 - val_accuracy: 0.8970\n",
      "Epoch 26/100\n",
      "100/100 - 18s - loss: 0.2090 - accuracy: 0.9105 - val_loss: 0.3372 - val_accuracy: 0.8980\n",
      "Epoch 27/100\n",
      "100/100 - 18s - loss: 0.1883 - accuracy: 0.9145 - val_loss: 0.3423 - val_accuracy: 0.9040\n",
      "Epoch 28/100\n",
      "100/100 - 18s - loss: 0.1649 - accuracy: 0.9295 - val_loss: 0.3351 - val_accuracy: 0.9100\n",
      "Epoch 29/100\n",
      "100/100 - 18s - loss: 0.2180 - accuracy: 0.9125 - val_loss: 0.3043 - val_accuracy: 0.8940\n",
      "Epoch 30/100\n",
      "100/100 - 18s - loss: 0.2033 - accuracy: 0.9130 - val_loss: 0.2922 - val_accuracy: 0.9110\n",
      "Epoch 31/100\n",
      "100/100 - 18s - loss: 0.1575 - accuracy: 0.9315 - val_loss: 0.3501 - val_accuracy: 0.9040\n",
      "Epoch 32/100\n",
      "100/100 - 18s - loss: 0.2019 - accuracy: 0.9155 - val_loss: 0.3062 - val_accuracy: 0.9120\n",
      "Epoch 33/100\n",
      "100/100 - 18s - loss: 0.1784 - accuracy: 0.9225 - val_loss: 0.4812 - val_accuracy: 0.8620\n",
      "Epoch 34/100\n",
      "100/100 - 18s - loss: 0.2014 - accuracy: 0.9195 - val_loss: 0.2815 - val_accuracy: 0.9130\n",
      "Epoch 35/100\n",
      "100/100 - 18s - loss: 0.1756 - accuracy: 0.9325 - val_loss: 0.3055 - val_accuracy: 0.9020\n",
      "Epoch 36/100\n",
      "100/100 - 18s - loss: 0.1813 - accuracy: 0.9300 - val_loss: 0.3234 - val_accuracy: 0.9020\n",
      "Epoch 37/100\n",
      "100/100 - 18s - loss: 0.1847 - accuracy: 0.9275 - val_loss: 0.3321 - val_accuracy: 0.8900\n",
      "Epoch 38/100\n",
      "100/100 - 18s - loss: 0.1668 - accuracy: 0.9300 - val_loss: 0.3235 - val_accuracy: 0.8990\n",
      "Epoch 39/100\n",
      "100/100 - 18s - loss: 0.1757 - accuracy: 0.9275 - val_loss: 0.2939 - val_accuracy: 0.9150\n",
      "Epoch 40/100\n",
      "100/100 - 18s - loss: 0.1768 - accuracy: 0.9250 - val_loss: 0.3337 - val_accuracy: 0.9080\n",
      "Epoch 41/100\n",
      "100/100 - 18s - loss: 0.1783 - accuracy: 0.9240 - val_loss: 0.2986 - val_accuracy: 0.9100\n",
      "Epoch 42/100\n",
      "100/100 - 18s - loss: 0.1836 - accuracy: 0.9285 - val_loss: 0.3257 - val_accuracy: 0.9000\n",
      "Epoch 43/100\n",
      "100/100 - 18s - loss: 0.1689 - accuracy: 0.9340 - val_loss: 0.3202 - val_accuracy: 0.9000\n",
      "Epoch 44/100\n",
      "100/100 - 18s - loss: 0.1516 - accuracy: 0.9405 - val_loss: 0.3635 - val_accuracy: 0.9040\n",
      "Epoch 45/100\n",
      "100/100 - 18s - loss: 0.1844 - accuracy: 0.9325 - val_loss: 0.3057 - val_accuracy: 0.9140\n",
      "Epoch 46/100\n",
      "100/100 - 18s - loss: 0.1755 - accuracy: 0.9225 - val_loss: 0.3682 - val_accuracy: 0.8920\n",
      "Epoch 47/100\n",
      "100/100 - 18s - loss: 0.1898 - accuracy: 0.9235 - val_loss: 0.3189 - val_accuracy: 0.9050\n",
      "Epoch 48/100\n",
      "100/100 - 18s - loss: 0.1830 - accuracy: 0.9210 - val_loss: 0.3458 - val_accuracy: 0.8960\n",
      "Epoch 49/100\n",
      "100/100 - 18s - loss: 0.1845 - accuracy: 0.9235 - val_loss: 0.3161 - val_accuracy: 0.9070\n",
      "Epoch 50/100\n",
      "100/100 - 18s - loss: 0.1774 - accuracy: 0.9270 - val_loss: 0.3713 - val_accuracy: 0.8930\n",
      "Epoch 51/100\n",
      "100/100 - 18s - loss: 0.1564 - accuracy: 0.9300 - val_loss: 0.3692 - val_accuracy: 0.8990\n",
      "Epoch 52/100\n",
      "100/100 - 18s - loss: 0.1790 - accuracy: 0.9190 - val_loss: 0.3233 - val_accuracy: 0.9160\n",
      "Epoch 53/100\n",
      "100/100 - 18s - loss: 0.1606 - accuracy: 0.9280 - val_loss: 0.3299 - val_accuracy: 0.9040\n",
      "Epoch 54/100\n",
      "100/100 - 18s - loss: 0.1891 - accuracy: 0.9205 - val_loss: 0.3173 - val_accuracy: 0.9060\n",
      "Epoch 55/100\n",
      "100/100 - 18s - loss: 0.1578 - accuracy: 0.9335 - val_loss: 0.3586 - val_accuracy: 0.9030\n",
      "Epoch 56/100\n",
      "100/100 - 18s - loss: 0.1723 - accuracy: 0.9265 - val_loss: 0.3151 - val_accuracy: 0.9100\n",
      "Epoch 57/100\n",
      "100/100 - 18s - loss: 0.1631 - accuracy: 0.9320 - val_loss: 0.3187 - val_accuracy: 0.9070\n",
      "Epoch 58/100\n",
      "100/100 - 18s - loss: 0.1665 - accuracy: 0.9360 - val_loss: 0.3313 - val_accuracy: 0.9070\n",
      "Epoch 59/100\n",
      "100/100 - 18s - loss: 0.1705 - accuracy: 0.9260 - val_loss: 0.3452 - val_accuracy: 0.9040\n",
      "Epoch 60/100\n",
      "100/100 - 18s - loss: 0.1762 - accuracy: 0.9290 - val_loss: 0.3306 - val_accuracy: 0.9010\n",
      "Epoch 61/100\n",
      "100/100 - 18s - loss: 0.1714 - accuracy: 0.9260 - val_loss: 0.3813 - val_accuracy: 0.8910\n",
      "Epoch 62/100\n",
      "100/100 - 18s - loss: 0.1633 - accuracy: 0.9325 - val_loss: 0.3411 - val_accuracy: 0.8990\n",
      "Epoch 63/100\n",
      "100/100 - 18s - loss: 0.1454 - accuracy: 0.9390 - val_loss: 0.3432 - val_accuracy: 0.9080\n",
      "Epoch 64/100\n",
      "100/100 - 18s - loss: 0.1654 - accuracy: 0.9295 - val_loss: 0.3387 - val_accuracy: 0.9080\n",
      "Epoch 65/100\n",
      "100/100 - 18s - loss: 0.1641 - accuracy: 0.9300 - val_loss: 0.3152 - val_accuracy: 0.9070\n",
      "Epoch 66/100\n",
      "100/100 - 18s - loss: 0.1596 - accuracy: 0.9325 - val_loss: 0.3218 - val_accuracy: 0.9020\n",
      "Epoch 67/100\n",
      "100/100 - 18s - loss: 0.1820 - accuracy: 0.9265 - val_loss: 0.3358 - val_accuracy: 0.9010\n",
      "Epoch 68/100\n",
      "100/100 - 18s - loss: 0.1517 - accuracy: 0.9330 - val_loss: 0.3706 - val_accuracy: 0.9000\n",
      "Epoch 69/100\n",
      "100/100 - 18s - loss: 0.1689 - accuracy: 0.9265 - val_loss: 0.3402 - val_accuracy: 0.9060\n",
      "Epoch 70/100\n",
      "100/100 - 18s - loss: 0.1686 - accuracy: 0.9320 - val_loss: 0.4046 - val_accuracy: 0.8820\n",
      "Epoch 71/100\n",
      "100/100 - 18s - loss: 0.1655 - accuracy: 0.9290 - val_loss: 0.3113 - val_accuracy: 0.9130\n",
      "Epoch 72/100\n",
      "100/100 - 18s - loss: 0.1528 - accuracy: 0.9335 - val_loss: 0.3882 - val_accuracy: 0.8870\n",
      "Epoch 73/100\n",
      "100/100 - 18s - loss: 0.1635 - accuracy: 0.9310 - val_loss: 0.3728 - val_accuracy: 0.8950\n",
      "Epoch 74/100\n",
      "100/100 - 18s - loss: 0.1942 - accuracy: 0.9250 - val_loss: 0.3268 - val_accuracy: 0.9020\n",
      "Epoch 75/100\n",
      "100/100 - 18s - loss: 0.1637 - accuracy: 0.9370 - val_loss: 0.3748 - val_accuracy: 0.9050\n",
      "Epoch 76/100\n",
      "100/100 - 18s - loss: 0.1649 - accuracy: 0.9245 - val_loss: 0.3451 - val_accuracy: 0.9060\n",
      "Epoch 77/100\n",
      "100/100 - 18s - loss: 0.1572 - accuracy: 0.9285 - val_loss: 0.3305 - val_accuracy: 0.9010\n",
      "Epoch 78/100\n",
      "100/100 - 18s - loss: 0.1539 - accuracy: 0.9375 - val_loss: 0.3682 - val_accuracy: 0.9080\n",
      "Epoch 79/100\n",
      "100/100 - 18s - loss: 0.1830 - accuracy: 0.9295 - val_loss: 0.3378 - val_accuracy: 0.9040\n",
      "Epoch 80/100\n",
      "100/100 - 18s - loss: 0.1492 - accuracy: 0.9350 - val_loss: 0.3750 - val_accuracy: 0.8980\n",
      "Epoch 81/100\n",
      "100/100 - 18s - loss: 0.1732 - accuracy: 0.9235 - val_loss: 0.3387 - val_accuracy: 0.9100\n",
      "Epoch 82/100\n",
      "100/100 - 18s - loss: 0.1926 - accuracy: 0.9215 - val_loss: 0.3184 - val_accuracy: 0.9070\n",
      "Epoch 83/100\n",
      "100/100 - 18s - loss: 0.1851 - accuracy: 0.9200 - val_loss: 0.3336 - val_accuracy: 0.9050\n",
      "Epoch 84/100\n",
      "100/100 - 18s - loss: 0.1548 - accuracy: 0.9345 - val_loss: 0.3340 - val_accuracy: 0.8990\n",
      "Epoch 85/100\n",
      "100/100 - 18s - loss: 0.1564 - accuracy: 0.9325 - val_loss: 0.3310 - val_accuracy: 0.9060\n",
      "Epoch 86/100\n",
      "100/100 - 18s - loss: 0.1722 - accuracy: 0.9305 - val_loss: 0.3246 - val_accuracy: 0.9070\n",
      "Epoch 87/100\n",
      "100/100 - 18s - loss: 0.1419 - accuracy: 0.9435 - val_loss: 0.3557 - val_accuracy: 0.9050\n",
      "Epoch 88/100\n",
      "100/100 - 18s - loss: 0.1780 - accuracy: 0.9265 - val_loss: 0.3340 - val_accuracy: 0.9120\n",
      "Epoch 89/100\n",
      "100/100 - 18s - loss: 0.1489 - accuracy: 0.9395 - val_loss: 0.3743 - val_accuracy: 0.9020\n",
      "Epoch 90/100\n",
      "100/100 - 18s - loss: 0.1360 - accuracy: 0.9425 - val_loss: 0.3357 - val_accuracy: 0.9040\n",
      "Epoch 91/100\n",
      "100/100 - 18s - loss: 0.1535 - accuracy: 0.9395 - val_loss: 0.3666 - val_accuracy: 0.8990\n",
      "Epoch 92/100\n",
      "100/100 - 18s - loss: 0.1588 - accuracy: 0.9370 - val_loss: 0.4140 - val_accuracy: 0.8920\n",
      "Epoch 93/100\n",
      "100/100 - 18s - loss: 0.1490 - accuracy: 0.9435 - val_loss: 0.3923 - val_accuracy: 0.8940\n",
      "Epoch 94/100\n",
      "100/100 - 18s - loss: 0.1597 - accuracy: 0.9335 - val_loss: 0.3236 - val_accuracy: 0.9070\n",
      "Epoch 95/100\n",
      "100/100 - 18s - loss: 0.1588 - accuracy: 0.9350 - val_loss: 0.4029 - val_accuracy: 0.8910\n",
      "Epoch 96/100\n",
      "100/100 - 18s - loss: 0.1522 - accuracy: 0.9385 - val_loss: 0.3754 - val_accuracy: 0.9060\n",
      "Epoch 97/100\n",
      "100/100 - 18s - loss: 0.1571 - accuracy: 0.9365 - val_loss: 0.3943 - val_accuracy: 0.8960\n",
      "Epoch 98/100\n",
      "100/100 - 18s - loss: 0.1400 - accuracy: 0.9380 - val_loss: 0.3695 - val_accuracy: 0.9080\n",
      "Epoch 99/100\n",
      "100/100 - 18s - loss: 0.1551 - accuracy: 0.9405 - val_loss: 0.3689 - val_accuracy: 0.9100\n",
      "Epoch 100/100\n",
      "100/100 - 18s - loss: 0.1647 - accuracy: 0.9340 - val_loss: 0.3555 - val_accuracy: 0.8980\n"
     ]
    }
   ],
   "source": [
    "# Fitting the model and saving the output of each epoch in an object named \" history\"\n",
    "\n",
    "history = model.fit(\n",
    "      train_generator_augmented,\n",
    "      steps_per_epoch=100,  # 2000 images = batch_size * steps\n",
    "      epochs=100,\n",
    "      validation_data=validation_generator,\n",
    "      validation_steps=50,  # 1000 images = batch_size * steps\n",
    "      verbose=2)"
   ]
  },
  {
   "cell_type": "code",
   "execution_count": null,
   "metadata": {
    "colab": {
     "base_uri": "https://localhost:8080/",
     "height": 281
    },
    "id": "IPP6m1gLap6W",
    "outputId": "eb88a693-8809-4160-fd9e-f22d47d22b10"
   },
   "outputs": [
    {
     "data": {
      "image/png": "[encoded data removed]",
      "text/plain": [
       "<Figure size 432x288 with 1 Axes>"
      ]
     },
     "metadata": {
      "needs_background": "light",
      "tags": []
     },
     "output_type": "display_data"
    }
   ],
   "source": [
    "# Plot the loss and accuracy using the history object\n",
    "\n",
    "import matplotlib.pyplot as plt\n",
    "\n",
    "acc = history.history['accuracy']\n",
    "val_acc = history.history['val_accuracy']\n",
    "loss = history.history['loss']\n",
    "val_loss = history.history['val_loss']\n",
    "\n",
    "epochs = range(0,100)\n",
    "\n",
    "# Plot training vs validation accuracy\n",
    "\n",
    "plt.plot(epochs,acc,'b',label = 'Training accuracy')\n",
    "plt.plot(epochs,val_acc,'r',label = 'Validation accuracy')\n",
    "plt.title(\"Training Vs. Validation Accuracy\")\n",
    "plt.legend()\n",
    "plt.show()\n"
   ]
  },
  {
   "cell_type": "markdown",
   "metadata": {
    "id": "Y3FkXyG6av_v"
   },
   "source": [
    "Training accuracy is close to 95% which is quite good. Also each epoch was just 18s which is not long at all.\n",
    "This is the power of transfer learning\n"
   ]
  },
  {
   "cell_type": "markdown",
   "metadata": {
    "id": "_BE1ZNAmz9wb"
   },
   "source": [
    "# DIY : Build a NN with transfer learning using VGG19\n",
    "\n",
    "VGG19 Documentation: https://keras.io/api/applications/vgg/#vgg19-function\n",
    "\n"
   ]
  },
  {
   "cell_type": "code",
   "execution_count": null,
   "metadata": {
    "colab": {
     "base_uri": "https://localhost:8080/"
    },
    "id": "Uf17cW2c0BFS",
    "outputId": "b8a76f0f-631a-4e2b-e2b0-bd3103988158"
   },
   "outputs": [
    {
     "name": "stdout",
     "output_type": "stream",
     "text": [
      "Downloading data from https://storage.googleapis.com/tensorflow/keras-applications/vgg19/vgg19_weights_tf_dim_ordering_tf_kernels_notop.h5\n",
      "80142336/80134624 [==============================] - 1s 0us/step\n"
     ]
    }
   ],
   "source": [
    "# create  an object using Vgg16 architecture\n",
    "\n",
    "vgg19_model = tf.keras.applications.vgg19.VGG19(input_shape=(150,150,3), \n",
    "                                                    include_top=False,  # Loads only convolutional layers, not the dense layers on top\n",
    "                                                    weights='imagenet'  # Loads weights from imagenet\n",
    "                                                    )\n"
   ]
  },
  {
   "cell_type": "code",
   "execution_count": null,
   "metadata": {
    "colab": {
     "base_uri": "https://localhost:8080/"
    },
    "id": "CY-ifuRY0KET",
    "outputId": "df32e052-0e23-45af-820e-2a291cd5d035"
   },
   "outputs": [
    {
     "name": "stdout",
     "output_type": "stream",
     "text": [
      "Model: \"vgg19\"\n",
      "_________________________________________________________________\n",
      "Layer (type)                 Output Shape              Param #   \n",
      "=================================================================\n",
      "input_1 (InputLayer)         [(None, 150, 150, 3)]     0         \n",
      "_________________________________________________________________\n",
      "block1_conv1 (Conv2D)        (None, 150, 150, 64)      1792      \n",
      "_________________________________________________________________\n",
      "block1_conv2 (Conv2D)        (None, 150, 150, 64)      36928     \n",
      "_________________________________________________________________\n",
      "block1_pool (MaxPooling2D)   (None, 75, 75, 64)        0         \n",
      "_________________________________________________________________\n",
      "block2_conv1 (Conv2D)        (None, 75, 75, 128)       73856     \n",
      "_________________________________________________________________\n",
      "block2_conv2 (Conv2D)        (None, 75, 75, 128)       147584    \n",
      "_________________________________________________________________\n",
      "block2_pool (MaxPooling2D)   (None, 37, 37, 128)       0         \n",
      "_________________________________________________________________\n",
      "block3_conv1 (Conv2D)        (None, 37, 37, 256)       295168    \n",
      "_________________________________________________________________\n",
      "block3_conv2 (Conv2D)        (None, 37, 37, 256)       590080    \n",
      "_________________________________________________________________\n",
      "block3_conv3 (Conv2D)        (None, 37, 37, 256)       590080    \n",
      "_________________________________________________________________\n",
      "block3_conv4 (Conv2D)        (None, 37, 37, 256)       590080    \n",
      "_________________________________________________________________\n",
      "block3_pool (MaxPooling2D)   (None, 18, 18, 256)       0         \n",
      "_________________________________________________________________\n",
      "block4_conv1 (Conv2D)        (None, 18, 18, 512)       1180160   \n",
      "_________________________________________________________________\n",
      "block4_conv2 (Conv2D)        (None, 18, 18, 512)       2359808   \n",
      "_________________________________________________________________\n",
      "block4_conv3 (Conv2D)        (None, 18, 18, 512)       2359808   \n",
      "_________________________________________________________________\n",
      "block4_conv4 (Conv2D)        (None, 18, 18, 512)       2359808   \n",
      "_________________________________________________________________\n",
      "block4_pool (MaxPooling2D)   (None, 9, 9, 512)         0         \n",
      "_________________________________________________________________\n",
      "block5_conv1 (Conv2D)        (None, 9, 9, 512)         2359808   \n",
      "_________________________________________________________________\n",
      "block5_conv2 (Conv2D)        (None, 9, 9, 512)         2359808   \n",
      "_________________________________________________________________\n",
      "block5_conv3 (Conv2D)        (None, 9, 9, 512)         2359808   \n",
      "_________________________________________________________________\n",
      "block5_conv4 (Conv2D)        (None, 9, 9, 512)         2359808   \n",
      "_________________________________________________________________\n",
      "block5_pool (MaxPooling2D)   (None, 4, 4, 512)         0         \n",
      "=================================================================\n",
      "Total params: 20,024,384\n",
      "Trainable params: 20,024,384\n",
      "Non-trainable params: 0\n",
      "_________________________________________________________________\n"
     ]
    }
   ],
   "source": [
    "vgg19_model.summary()"
   ]
  },
  {
   "cell_type": "code",
   "execution_count": null,
   "metadata": {
    "id": "Hr262voE0zC4"
   },
   "outputs": [],
   "source": []
  }
 ],
 "metadata": {
  "accelerator": "GPU",
  "colab": {
   "collapsed_sections": [
    "_BE1ZNAmz9wb"
   ],
   "name": "cats and dogs with transfer learning using vgg16 and vgg19.ipynb",
   "provenance": []
  },
  "kernelspec": {
   "display_name": "Python 3",
   "language": "python",
   "name": "python3"
  },
  "language_info": {
   "codemirror_mode": {
    "name": "ipython",
    "version": 3
   },
   "file_extension": ".py",
   "mimetype": "text/x-python",
   "name": "python",
   "nbconvert_exporter": "python",
   "pygments_lexer": "ipython3",
   "version": "3.7.6"
  }
 },
 "nbformat": 4,
 "nbformat_minor": 1
}
