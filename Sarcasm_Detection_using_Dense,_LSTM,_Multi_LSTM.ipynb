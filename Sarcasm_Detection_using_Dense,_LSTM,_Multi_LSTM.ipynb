{
 "cells": [
  {
   "cell_type": "markdown",
   "metadata": {
    "id": "lzmmtjxKk6W_"
   },
   "source": [
    "## Sarcasm Detecting using a Dense network"
   ]
  },
  {
   "cell_type": "markdown",
   "metadata": {
    "id": "LHN7-WjuFYkf"
   },
   "source": [
    "kaggle link for downloading the sarcasm data set:\n",
    "\n",
    "https://www.kaggle.com/rmisra/news-headlines-dataset-for-sarcasm-detection\n",
    "\n",
    "or use the wget command to copy the file from:\n",
    "\n",
    "https://storage.googleapis.com/laurencemoroney-blog.appspot.com/sarcasm.json\n",
    "\n",
    "\n"
   ]
  },
  {
   "cell_type": "code",
   "execution_count": null,
   "metadata": {
    "colab": {
     "base_uri": "https://localhost:8080/",
     "height": 204
    },
    "id": "nx-Uxj9mE-Pa",
    "outputId": "b6c438a0-4e43-49bb-869e-205e4cb0ab6c"
   },
   "outputs": [
    {
     "name": "stdout",
     "output_type": "stream",
     "text": [
      "--2020-08-08 09:21:49--  https://storage.googleapis.com/laurencemoroney-blog.appspot.com/sarcasm.json\n",
      "Resolving storage.googleapis.com (storage.googleapis.com)... 64.233.189.128, 108.177.97.128, 108.177.125.128, ...\n",
      "Connecting to storage.googleapis.com (storage.googleapis.com)|64.233.189.128|:443... connected.\n",
      "HTTP request sent, awaiting response... 200 OK\n",
      "Length: 5643545 (5.4M) [application/json]\n",
      "Saving to: ‘/tmp/sarcasm.json’\n",
      "\n",
      "\r",
      "/tmp/sarcasm.json     0%[                    ]       0  --.-KB/s               \r",
      "/tmp/sarcasm.json   100%[===================>]   5.38M  --.-KB/s    in 0.06s   \n",
      "\n",
      "2020-08-08 09:21:49 (83.3 MB/s) - ‘/tmp/sarcasm.json’ saved [5643545/5643545]\n",
      "\n"
     ]
    }
   ],
   "source": [
    "# Get the sarcasm data set using wget\n",
    "\n",
    "!wget https://storage.googleapis.com/laurencemoroney-blog.appspot.com/sarcasm.json \\\n",
    "      -O /tmp/sarcasm.json\n"
   ]
  },
  {
   "cell_type": "code",
   "execution_count": null,
   "metadata": {
    "id": "w4ewvZyaE7TS"
   },
   "outputs": [],
   "source": [
    "import json"
   ]
  },
  {
   "cell_type": "code",
   "execution_count": null,
   "metadata": {
    "id": "C9YYp-gxFgx4"
   },
   "outputs": [],
   "source": [
    "# Load the data from json file into python data structures\n",
    "\n",
    "with open('/tmp/sarcasm.json') as json_file:\n",
    "  sarcasm_data = json.load(json_file)"
   ]
  },
  {
   "cell_type": "code",
   "execution_count": null,
   "metadata": {
    "colab": {
     "base_uri": "https://localhost:8080/",
     "height": 54
    },
    "id": "GXZzDBfdHF22",
    "outputId": "29e6f35f-6f5d-4c31-8d77-66e477f3a47f"
   },
   "outputs": [
    {
     "name": "stdout",
     "output_type": "stream",
     "text": [
      "{'article_link': 'https://www.huffingtonpost.com/entry/versace-black-code_us_5861fbefe4b0de3a08f600d5', 'headline': \"former versace store clerk sues over secret 'black code' for minority shoppers\", 'is_sarcastic': 0}\n"
     ]
    }
   ],
   "source": [
    "print (sarcasm_data[0])\n"
   ]
  },
  {
   "cell_type": "markdown",
   "metadata": {
    "id": "c4k0Dfm8HsJg"
   },
   "source": [
    "Sarcasm is a list of dictionaries. It is an ideal candate to turn into a pandas dataframe\n"
   ]
  },
  {
   "cell_type": "code",
   "execution_count": null,
   "metadata": {
    "id": "NvPLtKBHHuLT"
   },
   "outputs": [],
   "source": [
    "import pandas as pd\n",
    "\n",
    "sarcasm_data_df = pd.DataFrame(data=sarcasm_data)"
   ]
  },
  {
   "cell_type": "code",
   "execution_count": null,
   "metadata": {
    "colab": {
     "base_uri": "https://localhost:8080/",
     "height": 204
    },
    "id": "x7Z9_7x8H_7m",
    "outputId": "c1a1856c-8601-4fe8-8d74-03a43a912786"
   },
   "outputs": [
    {
     "data": {
      "text/html": [
       "<div>\n",
       "<style scoped>\n",
       "    .dataframe tbody tr th:only-of-type {\n",
       "        vertical-align: middle;\n",
       "    }\n",
       "\n",
       "    .dataframe tbody tr th {\n",
       "        vertical-align: top;\n",
       "    }\n",
       "\n",
       "    .dataframe thead th {\n",
       "        text-align: right;\n",
       "    }\n",
       "</style>\n",
       "<table border=\"1\" class=\"dataframe\">\n",
       "  <thead>\n",
       "    <tr style=\"text-align: right;\">\n",
       "      <th></th>\n",
       "      <th>article_link</th>\n",
       "      <th>headline</th>\n",
       "      <th>is_sarcastic</th>\n",
       "    </tr>\n",
       "  </thead>\n",
       "  <tbody>\n",
       "    <tr>\n",
       "      <th>0</th>\n",
       "      <td>https://www.huffingtonpost.com/entry/versace-b...</td>\n",
       "      <td>former versace store clerk sues over secret 'b...</td>\n",
       "      <td>0</td>\n",
       "    </tr>\n",
       "    <tr>\n",
       "      <th>1</th>\n",
       "      <td>https://www.huffingtonpost.com/entry/roseanne-...</td>\n",
       "      <td>the 'roseanne' revival catches up to our thorn...</td>\n",
       "      <td>0</td>\n",
       "    </tr>\n",
       "    <tr>\n",
       "      <th>2</th>\n",
       "      <td>https://local.theonion.com/mom-starting-to-fea...</td>\n",
       "      <td>mom starting to fear son's web series closest ...</td>\n",
       "      <td>1</td>\n",
       "    </tr>\n",
       "    <tr>\n",
       "      <th>3</th>\n",
       "      <td>https://politics.theonion.com/boehner-just-wan...</td>\n",
       "      <td>boehner just wants wife to listen, not come up...</td>\n",
       "      <td>1</td>\n",
       "    </tr>\n",
       "    <tr>\n",
       "      <th>4</th>\n",
       "      <td>https://www.huffingtonpost.com/entry/jk-rowlin...</td>\n",
       "      <td>j.k. rowling wishes snape happy birthday in th...</td>\n",
       "      <td>0</td>\n",
       "    </tr>\n",
       "  </tbody>\n",
       "</table>\n",
       "</div>"
      ],
      "text/plain": [
       "                                        article_link  ... is_sarcastic\n",
       "0  https://www.huffingtonpost.com/entry/versace-b...  ...            0\n",
       "1  https://www.huffingtonpost.com/entry/roseanne-...  ...            0\n",
       "2  https://local.theonion.com/mom-starting-to-fea...  ...            1\n",
       "3  https://politics.theonion.com/boehner-just-wan...  ...            1\n",
       "4  https://www.huffingtonpost.com/entry/jk-rowlin...  ...            0\n",
       "\n",
       "[5 rows x 3 columns]"
      ]
     },
     "execution_count": 6,
     "metadata": {
      "tags": []
     },
     "output_type": "execute_result"
    }
   ],
   "source": [
    "sarcasm_data_df.head()"
   ]
  },
  {
   "cell_type": "code",
   "execution_count": null,
   "metadata": {
    "colab": {
     "base_uri": "https://localhost:8080/",
     "height": 34
    },
    "id": "3DgS_gnKIeoy",
    "outputId": "e673aae4-4cb6-48a9-988f-3fddfb605096"
   },
   "outputs": [
    {
     "data": {
      "text/plain": [
       "(26709, 3)"
      ]
     },
     "execution_count": 7,
     "metadata": {
      "tags": []
     },
     "output_type": "execute_result"
    }
   ],
   "source": [
    "sarcasm_data_df.shape"
   ]
  },
  {
   "cell_type": "markdown",
   "metadata": {
    "id": "TLhtYFHXISxu"
   },
   "source": [
    "Lets tokenize headlines, we wont be using article_link"
   ]
  },
  {
   "cell_type": "code",
   "execution_count": null,
   "metadata": {
    "id": "px_W-glwGNb-"
   },
   "outputs": [],
   "source": [
    "# Import tensorflow \n",
    "\n",
    "import tensorflow as tf\n",
    "\n",
    "from tensorflow.keras.preprocessing.text import Tokenizer\n",
    "\n",
    "from tensorflow.keras.preprocessing.sequence import pad_sequences\n"
   ]
  },
  {
   "cell_type": "code",
   "execution_count": null,
   "metadata": {
    "id": "hFLDOWCBfhSe"
   },
   "outputs": [],
   "source": [
    "vocab_size = 10000\n",
    "embedding_dim = 32\n",
    "max_length = 100\n",
    "trunc_type='post'\n",
    "padding_type='post'\n",
    "oov_token = \"<NIC>\"\n",
    "training_size = 20000"
   ]
  },
  {
   "cell_type": "code",
   "execution_count": null,
   "metadata": {
    "id": "yzCRvrf4IF26"
   },
   "outputs": [],
   "source": [
    "# Define the tokenizer object\n",
    "\n",
    "tokenizer = Tokenizer(num_words=vocab_size, oov_token = oov_token)\n",
    "\n"
   ]
  },
  {
   "cell_type": "code",
   "execution_count": null,
   "metadata": {
    "id": "0DmkEG8sI49M"
   },
   "outputs": [],
   "source": [
    "# Build the dictionary\n",
    "\n",
    "tokenizer.fit_on_texts(sarcasm_data_df['headline'])"
   ]
  },
  {
   "cell_type": "code",
   "execution_count": null,
   "metadata": {
    "colab": {
     "base_uri": "https://localhost:8080/",
     "height": 34
    },
    "id": "Tkrte1HGJLfQ",
    "outputId": "a89c3dab-75f6-4383-d1a3-9e5c4d6d8a99"
   },
   "outputs": [
    {
     "name": "stdout",
     "output_type": "stream",
     "text": [
      "29657\n"
     ]
    }
   ],
   "source": [
    "# Print the number of words in the  corpus\n",
    "\n",
    "print (len(tokenizer.word_index))"
   ]
  },
  {
   "cell_type": "code",
   "execution_count": null,
   "metadata": {
    "id": "Wn4eH3w-JZTU"
   },
   "outputs": [],
   "source": [
    "# Turn text into sequences\n",
    "\n",
    "sequences = tokenizer.texts_to_sequences(sarcasm_data_df['headline'])"
   ]
  },
  {
   "cell_type": "code",
   "execution_count": null,
   "metadata": {
    "colab": {
     "base_uri": "https://localhost:8080/",
     "height": 34
    },
    "id": "tQ5eOIofLRoL",
    "outputId": "3d1394d7-c725-4509-d05b-2af1255e8480"
   },
   "outputs": [
    {
     "name": "stdout",
     "output_type": "stream",
     "text": [
      "[308, 1, 679, 3337, 2298, 48, 382, 2576, 1, 6, 2577, 8434]\n"
     ]
    }
   ],
   "source": [
    "print (sequences[0])"
   ]
  },
  {
   "cell_type": "code",
   "execution_count": null,
   "metadata": {
    "id": "K0MPG1KwLWJE"
   },
   "outputs": [],
   "source": [
    "# Pad the sequences. Padding should happen after the sentence ends\n",
    "\n",
    "padded_sequences = pad_sequences(sequences,padding=padding_type,truncating=trunc_type,maxlen=max_length)"
   ]
  },
  {
   "cell_type": "code",
   "execution_count": null,
   "metadata": {
    "colab": {
     "base_uri": "https://localhost:8080/",
     "height": 170
    },
    "id": "tRn5rYOkLks5",
    "outputId": "749a5327-ba22-4dc6-efb5-293117203b4f"
   },
   "outputs": [
    {
     "name": "stdout",
     "output_type": "stream",
     "text": [
      "[308, 1, 679, 3337, 2298, 48, 382, 2576, 1, 6, 2577, 8434]\n",
      "[ 308    1  679 3337 2298   48  382 2576    1    6 2577 8434    0    0\n",
      "    0    0    0    0    0    0    0    0    0    0    0    0    0    0\n",
      "    0    0    0    0    0    0    0    0    0    0    0    0    0    0\n",
      "    0    0    0    0    0    0    0    0    0    0    0    0    0    0\n",
      "    0    0    0    0    0    0    0    0    0    0    0    0    0    0\n",
      "    0    0    0    0    0    0    0    0    0    0    0    0    0    0\n",
      "    0    0    0    0    0    0    0    0    0    0    0    0    0    0\n",
      "    0    0]\n"
     ]
    }
   ],
   "source": [
    "print (sequences[0])\n",
    "print (padded_sequences[0])"
   ]
  },
  {
   "cell_type": "code",
   "execution_count": null,
   "metadata": {
    "colab": {
     "base_uri": "https://localhost:8080/",
     "height": 51
    },
    "id": "qdrbNjYOLxs7",
    "outputId": "94e68285-1a71-4dc9-e1b3-9a0431351805"
   },
   "outputs": [
    {
     "name": "stdout",
     "output_type": "stream",
     "text": [
      "100\n",
      "(26709, 100)\n"
     ]
    }
   ],
   "source": [
    "# What is the length of the longest headline?\n",
    "\n",
    "print (len(padded_sequences[0]))\n",
    "\n",
    "print (padded_sequences.shape)\n"
   ]
  },
  {
   "cell_type": "code",
   "execution_count": null,
   "metadata": {
    "id": "aNxpDVFUbh7O"
   },
   "outputs": [],
   "source": [
    "# Lets split the data set into training and testing sets\n",
    "\n",
    "\n",
    "training_padded = padded_sequences[:training_size]\n",
    "training_labels = sarcasm_data_df['is_sarcastic'][:training_size]"
   ]
  },
  {
   "cell_type": "code",
   "execution_count": null,
   "metadata": {
    "colab": {
     "base_uri": "https://localhost:8080/",
     "height": 51
    },
    "id": "jcknHBEZb3Nw",
    "outputId": "b420f3f1-2fe5-4ea2-aa15-d0dc5b859d3e"
   },
   "outputs": [
    {
     "name": "stdout",
     "output_type": "stream",
     "text": [
      "20000\n",
      "20000\n"
     ]
    }
   ],
   "source": [
    "print(len(training_padded))\n",
    "print(len(training_labels))"
   ]
  },
  {
   "cell_type": "code",
   "execution_count": null,
   "metadata": {
    "id": "HdheMMCieBUo"
   },
   "outputs": [],
   "source": [
    "# Testing data and lables\n",
    "\n",
    "testing_padded = padded_sequences[training_size:]\n",
    "testing_labels = sarcasm_data_df['is_sarcastic'][training_size:]"
   ]
  },
  {
   "cell_type": "code",
   "execution_count": null,
   "metadata": {
    "colab": {
     "base_uri": "https://localhost:8080/",
     "height": 51
    },
    "id": "IwosaaF0eViP",
    "outputId": "1a49f050-5189-4e36-e27f-98fa697d6b99"
   },
   "outputs": [
    {
     "name": "stdout",
     "output_type": "stream",
     "text": [
      "6709\n",
      "6709\n"
     ]
    }
   ],
   "source": [
    "print(len(testing_padded))\n",
    "print(len(testing_labels))"
   ]
  },
  {
   "cell_type": "code",
   "execution_count": null,
   "metadata": {
    "id": "ylDzrFnDhGAE"
   },
   "outputs": [],
   "source": [
    "# Define the architecture of Neural Network\n",
    "\n",
    "model = tf.keras.Sequential([\n",
    "                     tf.keras.layers.Embedding(vocab_size,embedding_dim,input_length=max_length),\n",
    "                     tf.keras.layers.Flatten(),\n",
    "                     tf.keras.layers.Dense(64, activation='relu'),\n",
    "                     tf.keras.layers.Dense(1,activation='sigmoid')\n",
    "])"
   ]
  },
  {
   "cell_type": "code",
   "execution_count": null,
   "metadata": {
    "id": "BKXC5I3JlPNl"
   },
   "outputs": [],
   "source": [
    "# Compile the model\n",
    "\n",
    "model.compile(optimizer='adam',loss='binary_crossentropy', metrics=['accuracy'])\n",
    "\n"
   ]
  },
  {
   "cell_type": "code",
   "execution_count": null,
   "metadata": {
    "colab": {
     "base_uri": "https://localhost:8080/",
     "height": 289
    },
    "id": "wZx9PFYLlmod",
    "outputId": "6d312c50-9396-4241-f810-25b9fb54b097"
   },
   "outputs": [
    {
     "name": "stdout",
     "output_type": "stream",
     "text": [
      "Model: \"sequential\"\n",
      "_________________________________________________________________\n",
      "Layer (type)                 Output Shape              Param #   \n",
      "=================================================================\n",
      "embedding (Embedding)        (None, 100, 32)           320000    \n",
      "_________________________________________________________________\n",
      "flatten (Flatten)            (None, 3200)              0         \n",
      "_________________________________________________________________\n",
      "dense (Dense)                (None, 64)                204864    \n",
      "_________________________________________________________________\n",
      "dense_1 (Dense)              (None, 1)                 65        \n",
      "=================================================================\n",
      "Total params: 524,929\n",
      "Trainable params: 524,929\n",
      "Non-trainable params: 0\n",
      "_________________________________________________________________\n"
     ]
    }
   ],
   "source": [
    "model.summary()"
   ]
  },
  {
   "cell_type": "code",
   "execution_count": null,
   "metadata": {
    "colab": {
     "base_uri": "https://localhost:8080/",
     "height": 1000
    },
    "id": "8Iu62C9ZlrP5",
    "outputId": "9b1562e5-0dcd-4d5b-a81f-d8af81ddecdb"
   },
   "outputs": [
    {
     "name": "stdout",
     "output_type": "stream",
     "text": [
      "Epoch 1/30\n",
      "625/625 [==============================] - 3s 5ms/step - loss: 0.4596 - accuracy: 0.7631 - val_loss: 0.3092 - val_accuracy: 0.8638\n",
      "Epoch 2/30\n",
      "625/625 [==============================] - 3s 5ms/step - loss: 0.1809 - accuracy: 0.9302 - val_loss: 0.3277 - val_accuracy: 0.8659\n",
      "Epoch 3/30\n",
      "625/625 [==============================] - 3s 5ms/step - loss: 0.0632 - accuracy: 0.9803 - val_loss: 0.4302 - val_accuracy: 0.8559\n",
      "Epoch 4/30\n",
      "625/625 [==============================] - 3s 5ms/step - loss: 0.0150 - accuracy: 0.9965 - val_loss: 0.5354 - val_accuracy: 0.8611\n",
      "Epoch 5/30\n",
      "625/625 [==============================] - 3s 5ms/step - loss: 0.0039 - accuracy: 0.9992 - val_loss: 0.6061 - val_accuracy: 0.8605\n",
      "Epoch 6/30\n",
      "625/625 [==============================] - 3s 5ms/step - loss: 0.0017 - accuracy: 0.9995 - val_loss: 0.6555 - val_accuracy: 0.8572\n",
      "Epoch 7/30\n",
      "625/625 [==============================] - 3s 5ms/step - loss: 0.0012 - accuracy: 0.9995 - val_loss: 0.7017 - val_accuracy: 0.8583\n",
      "Epoch 8/30\n",
      "625/625 [==============================] - 3s 5ms/step - loss: 8.6400e-04 - accuracy: 0.9997 - val_loss: 0.7478 - val_accuracy: 0.8562\n",
      "Epoch 9/30\n",
      "625/625 [==============================] - 3s 5ms/step - loss: 0.0012 - accuracy: 0.9995 - val_loss: 0.7476 - val_accuracy: 0.8550\n",
      "Epoch 10/30\n",
      "625/625 [==============================] - 3s 5ms/step - loss: 5.8450e-04 - accuracy: 0.9999 - val_loss: 0.8103 - val_accuracy: 0.8544\n",
      "Epoch 11/30\n",
      "625/625 [==============================] - 3s 5ms/step - loss: 0.0010 - accuracy: 0.9997 - val_loss: 0.9204 - val_accuracy: 0.8495\n",
      "Epoch 12/30\n",
      "625/625 [==============================] - 3s 5ms/step - loss: 0.0018 - accuracy: 0.9995 - val_loss: 0.9444 - val_accuracy: 0.8422\n",
      "Epoch 13/30\n",
      "625/625 [==============================] - 3s 5ms/step - loss: 0.0010 - accuracy: 0.9997 - val_loss: 0.9895 - val_accuracy: 0.8474\n",
      "Epoch 14/30\n",
      "625/625 [==============================] - 3s 5ms/step - loss: 9.3164e-04 - accuracy: 0.9997 - val_loss: 0.7630 - val_accuracy: 0.8442\n",
      "Epoch 15/30\n",
      "625/625 [==============================] - 3s 5ms/step - loss: 0.0011 - accuracy: 0.9997 - val_loss: 1.0652 - val_accuracy: 0.8453\n",
      "Epoch 16/30\n",
      "625/625 [==============================] - 3s 5ms/step - loss: 0.0012 - accuracy: 0.9996 - val_loss: 1.1510 - val_accuracy: 0.8328\n",
      "Epoch 17/30\n",
      "625/625 [==============================] - 3s 5ms/step - loss: 0.0013 - accuracy: 0.9996 - val_loss: 1.0790 - val_accuracy: 0.8472\n",
      "Epoch 18/30\n",
      "625/625 [==============================] - 3s 5ms/step - loss: 6.6281e-04 - accuracy: 0.9998 - val_loss: 1.0740 - val_accuracy: 0.8353\n",
      "Epoch 19/30\n",
      "625/625 [==============================] - 3s 5ms/step - loss: 9.4873e-04 - accuracy: 0.9997 - val_loss: 1.0867 - val_accuracy: 0.8493\n",
      "Epoch 20/30\n",
      "625/625 [==============================] - 3s 5ms/step - loss: 0.0010 - accuracy: 0.9997 - val_loss: 1.0374 - val_accuracy: 0.8422\n",
      "Epoch 21/30\n",
      "625/625 [==============================] - 3s 5ms/step - loss: 0.0014 - accuracy: 0.9995 - val_loss: 1.2975 - val_accuracy: 0.8383\n",
      "Epoch 22/30\n",
      "625/625 [==============================] - 3s 5ms/step - loss: 5.0478e-04 - accuracy: 0.9998 - val_loss: 1.2445 - val_accuracy: 0.8283\n",
      "Epoch 23/30\n",
      "625/625 [==============================] - 3s 5ms/step - loss: 9.9528e-04 - accuracy: 0.9997 - val_loss: 1.1681 - val_accuracy: 0.8351\n",
      "Epoch 24/30\n",
      "625/625 [==============================] - 4s 6ms/step - loss: 0.0011 - accuracy: 0.9996 - val_loss: 1.2004 - val_accuracy: 0.8395\n",
      "Epoch 25/30\n",
      "625/625 [==============================] - 4s 6ms/step - loss: 5.8576e-04 - accuracy: 0.9998 - val_loss: 1.1936 - val_accuracy: 0.8410\n",
      "Epoch 26/30\n",
      "625/625 [==============================] - 3s 5ms/step - loss: 9.7008e-04 - accuracy: 0.9996 - val_loss: 1.1965 - val_accuracy: 0.8380\n",
      "Epoch 27/30\n",
      "625/625 [==============================] - 3s 5ms/step - loss: 7.1089e-04 - accuracy: 0.9998 - val_loss: 1.2499 - val_accuracy: 0.8366\n",
      "Epoch 28/30\n",
      "625/625 [==============================] - 3s 5ms/step - loss: 6.6165e-04 - accuracy: 0.9998 - val_loss: 1.1603 - val_accuracy: 0.8362\n",
      "Epoch 29/30\n",
      "625/625 [==============================] - 3s 5ms/step - loss: 6.1231e-04 - accuracy: 0.9997 - val_loss: 1.1803 - val_accuracy: 0.8365\n",
      "Epoch 30/30\n",
      "625/625 [==============================] - 3s 5ms/step - loss: 7.7501e-04 - accuracy: 0.9995 - val_loss: 1.2053 - val_accuracy: 0.8319\n"
     ]
    }
   ],
   "source": [
    "# Fit the data into the model\n",
    "\n",
    "history = model.fit(training_padded,\n",
    "          training_labels,\n",
    "          epochs=30,\n",
    "          validation_data=(testing_padded,testing_labels))"
   ]
  },
  {
   "cell_type": "code",
   "execution_count": null,
   "metadata": {
    "colab": {
     "base_uri": "https://localhost:8080/",
     "height": 265
    },
    "id": "s0xwy0CCnK-O",
    "outputId": "f5503da7-661f-47d7-a9c6-48f6c65ead39"
   },
   "outputs": [
    {
     "data": {
      "image/png": "[encoded data removed]",
      "text/plain": [
       "<Figure size 432x288 with 1 Axes>"
      ]
     },
     "metadata": {
      "needs_background": "light",
      "tags": []
     },
     "output_type": "display_data"
    }
   ],
   "source": [
    "import matplotlib.pyplot as plt\n",
    "\n",
    "\n",
    "acc = history.history['accuracy']\n",
    "loss = history.history['loss']\n",
    "val_acc = history.history['val_accuracy']\n",
    "val_loss = history.history['val_loss']\n",
    "\n",
    "epochs = range(len(acc))\n",
    "\n",
    "plt.plot(epochs,acc,'r',label='Training Accuracy')\n",
    "plt.plot(epochs, val_acc, 'b',label='Validation Accuracy')\n",
    "plt.legend()\n",
    "plt.show()"
   ]
  },
  {
   "cell_type": "code",
   "execution_count": null,
   "metadata": {
    "colab": {
     "base_uri": "https://localhost:8080/",
     "height": 265
    },
    "id": "Qpo6lT1snmro",
    "outputId": "732ebf8d-b0eb-4b99-d529-8033f5a66107"
   },
   "outputs": [
    {
     "data": {
      "image/png": "[encoded data removed]",
      "text/plain": [
       "<Figure size 432x288 with 1 Axes>"
      ]
     },
     "metadata": {
      "needs_background": "light",
      "tags": []
     },
     "output_type": "display_data"
    }
   ],
   "source": [
    "plt.plot(epochs,loss,'r', label = 'Training loss')\n",
    "plt.plot(epochs, val_loss, 'b', label = 'Validation loss')\n",
    "plt.legend()\n",
    "plt.show()"
   ]
  },
  {
   "cell_type": "markdown",
   "metadata": {
    "id": "ZcWPKcRlpVnY"
   },
   "source": [
    "As seen above the loss validation accuracy and validation loss actually deterioate after the first few epochs."
   ]
  },
  {
   "cell_type": "markdown",
   "metadata": {
    "id": "PMH9nsYvrkTB"
   },
   "source": [
    "Loss is the amount of confidence you have in your predicition. An increasing loss represents the  decreasing confidence in the acuuracy of your predictions and also indicates overfitting. This is a common problem with NLP applications.\n",
    "\n",
    "Try to find a set of hyper parameters which gives a training accuracy of 90% or more with a stable loss.\n"
   ]
  },
  {
   "cell_type": "markdown",
   "metadata": {
    "id": "KCHsl0dnYuNx"
   },
   "source": [
    "\n",
    "# Sarcasm Detection using LTSM"
   ]
  },
  {
   "cell_type": "code",
   "execution_count": null,
   "metadata": {
    "id": "Kc1bn20asAgF"
   },
   "outputs": [],
   "source": [
    "# Define a layer with LSTM layer\n",
    "\n",
    "\n",
    "model_lstm = tf.keras.Sequential([\n",
    "                                  tf.keras.layers.Embedding(vocab_size,embedding_dim,input_length=max_length),\n",
    "                                  tf.keras.layers.Bidirectional(tf.keras.layers.LSTM(32)),\n",
    "                                  tf.keras.layers.Dense(16, activation='relu' ),\n",
    "                                  tf.keras.layers.Dense(1,activation='sigmoid')\n",
    "])"
   ]
  },
  {
   "cell_type": "code",
   "execution_count": null,
   "metadata": {
    "id": "msZbKEzCZ6oE"
   },
   "outputs": [],
   "source": [
    "# Compile the model\n",
    "\n",
    "model_lstm.compile(loss='binary_crossentropy',optimizer='adam',metrics=['accuracy'])"
   ]
  },
  {
   "cell_type": "code",
   "execution_count": null,
   "metadata": {
    "colab": {
     "base_uri": "https://localhost:8080/",
     "height": 1000
    },
    "id": "EP1j2ap8aJHE",
    "outputId": "ca79bf70-1841-4e71-87f5-d033950307ec"
   },
   "outputs": [
    {
     "name": "stdout",
     "output_type": "stream",
     "text": [
      "Epoch 1/30\n",
      "625/625 [==============================] - 9s 14ms/step - loss: 0.4028 - accuracy: 0.8053 - val_loss: 0.3274 - val_accuracy: 0.8557\n",
      "Epoch 2/30\n",
      "625/625 [==============================] - 8s 13ms/step - loss: 0.2026 - accuracy: 0.9184 - val_loss: 0.3461 - val_accuracy: 0.8559\n",
      "Epoch 3/30\n",
      "625/625 [==============================] - 8s 13ms/step - loss: 0.1181 - accuracy: 0.9564 - val_loss: 0.4446 - val_accuracy: 0.8471\n",
      "Epoch 4/30\n",
      "625/625 [==============================] - 9s 14ms/step - loss: 0.0723 - accuracy: 0.9755 - val_loss: 0.5125 - val_accuracy: 0.8427\n",
      "Epoch 5/30\n",
      "625/625 [==============================] - 9s 14ms/step - loss: 0.0439 - accuracy: 0.9855 - val_loss: 0.6306 - val_accuracy: 0.8436\n",
      "Epoch 6/30\n",
      "625/625 [==============================] - 8s 13ms/step - loss: 0.0276 - accuracy: 0.9901 - val_loss: 0.7779 - val_accuracy: 0.8371\n",
      "Epoch 7/30\n",
      "625/625 [==============================] - 8s 13ms/step - loss: 0.0196 - accuracy: 0.9937 - val_loss: 0.8794 - val_accuracy: 0.8399\n",
      "Epoch 8/30\n",
      "625/625 [==============================] - 8s 14ms/step - loss: 0.0139 - accuracy: 0.9957 - val_loss: 0.9449 - val_accuracy: 0.8353\n",
      "Epoch 9/30\n",
      "625/625 [==============================] - 8s 13ms/step - loss: 0.0139 - accuracy: 0.9953 - val_loss: 0.9174 - val_accuracy: 0.8357\n",
      "Epoch 10/30\n",
      "625/625 [==============================] - 8s 14ms/step - loss: 0.0107 - accuracy: 0.9966 - val_loss: 1.0818 - val_accuracy: 0.8340\n",
      "Epoch 11/30\n",
      "625/625 [==============================] - 8s 13ms/step - loss: 0.0089 - accuracy: 0.9974 - val_loss: 1.0818 - val_accuracy: 0.8319\n",
      "Epoch 12/30\n",
      "625/625 [==============================] - 8s 13ms/step - loss: 0.0058 - accuracy: 0.9985 - val_loss: 1.1219 - val_accuracy: 0.8320\n",
      "Epoch 13/30\n",
      "625/625 [==============================] - 8s 14ms/step - loss: 0.0040 - accuracy: 0.9987 - val_loss: 1.3285 - val_accuracy: 0.8326\n",
      "Epoch 14/30\n",
      "625/625 [==============================] - 8s 13ms/step - loss: 0.0031 - accuracy: 0.9992 - val_loss: 1.3480 - val_accuracy: 0.8314\n",
      "Epoch 15/30\n",
      "625/625 [==============================] - 8s 13ms/step - loss: 0.0022 - accuracy: 0.9995 - val_loss: 1.4208 - val_accuracy: 0.8278\n",
      "Epoch 16/30\n",
      "625/625 [==============================] - 8s 13ms/step - loss: 0.0068 - accuracy: 0.9977 - val_loss: 1.0668 - val_accuracy: 0.8313\n",
      "Epoch 17/30\n",
      "625/625 [==============================] - 8s 14ms/step - loss: 0.0087 - accuracy: 0.9973 - val_loss: 1.1408 - val_accuracy: 0.8314\n",
      "Epoch 18/30\n",
      "625/625 [==============================] - 8s 13ms/step - loss: 0.0055 - accuracy: 0.9980 - val_loss: 1.2802 - val_accuracy: 0.8332\n",
      "Epoch 19/30\n",
      "625/625 [==============================] - 8s 13ms/step - loss: 0.0027 - accuracy: 0.9991 - val_loss: 1.4244 - val_accuracy: 0.8286\n",
      "Epoch 20/30\n",
      "625/625 [==============================] - 9s 14ms/step - loss: 0.0016 - accuracy: 0.9995 - val_loss: 1.4681 - val_accuracy: 0.8264\n",
      "Epoch 21/30\n",
      "625/625 [==============================] - 9s 14ms/step - loss: 0.0013 - accuracy: 0.9995 - val_loss: 1.5052 - val_accuracy: 0.8323\n",
      "Epoch 22/30\n",
      "625/625 [==============================] - 8s 13ms/step - loss: 0.0022 - accuracy: 0.9994 - val_loss: 1.5430 - val_accuracy: 0.8283\n",
      "Epoch 23/30\n",
      "625/625 [==============================] - 8s 13ms/step - loss: 0.0023 - accuracy: 0.9992 - val_loss: 1.4813 - val_accuracy: 0.8264\n",
      "Epoch 24/30\n",
      "625/625 [==============================] - 8s 13ms/step - loss: 0.0037 - accuracy: 0.9987 - val_loss: 1.3319 - val_accuracy: 0.8265\n",
      "Epoch 25/30\n",
      "625/625 [==============================] - 8s 14ms/step - loss: 0.0040 - accuracy: 0.9984 - val_loss: 1.4291 - val_accuracy: 0.8268\n",
      "Epoch 26/30\n",
      "625/625 [==============================] - 8s 13ms/step - loss: 0.0034 - accuracy: 0.9988 - val_loss: 1.2577 - val_accuracy: 0.8261\n",
      "Epoch 27/30\n",
      "625/625 [==============================] - 8s 13ms/step - loss: 0.0014 - accuracy: 0.9994 - val_loss: 1.5201 - val_accuracy: 0.8295\n",
      "Epoch 28/30\n",
      "625/625 [==============================] - 8s 13ms/step - loss: 9.1100e-04 - accuracy: 0.9998 - val_loss: 1.5349 - val_accuracy: 0.8301\n",
      "Epoch 29/30\n",
      "625/625 [==============================] - 8s 13ms/step - loss: 5.6048e-04 - accuracy: 0.9998 - val_loss: 1.6175 - val_accuracy: 0.8271\n",
      "Epoch 30/30\n",
      "625/625 [==============================] - 8s 13ms/step - loss: 6.4860e-04 - accuracy: 0.9998 - val_loss: 1.6065 - val_accuracy: 0.8283\n"
     ]
    }
   ],
   "source": [
    "# Fit data into the model\n",
    "\n",
    "history_lstm = model_lstm.fit(training_padded, training_labels, validation_data=(testing_padded, testing_labels), epochs=30)"
   ]
  },
  {
   "cell_type": "code",
   "execution_count": null,
   "metadata": {
    "id": "q6AQvCMHa_-0"
   },
   "outputs": [],
   "source": [
    "def plot_accuracy_loss (history):\n",
    "  acc = history.history['accuracy']\n",
    "  loss = history.history['loss']\n",
    "  val_acc = history.history['val_accuracy']\n",
    "  val_loss = history.history['val_loss']\n",
    "\n",
    "  epochs = range(len(acc))\n",
    "\n",
    "  plt.plot(epochs,acc,'r',label='Training Accuracy')\n",
    "  plt.plot(epochs, val_acc, 'b',label='Validation Accuracy')\n",
    "  plt.legend()\n",
    "  plt.show()\n",
    "\n",
    "  plt.figure()\n",
    "  plt.plot(epochs,loss,'r', label = 'Training loss')\n",
    "  plt.plot(epochs, val_loss, 'b', label = 'Validation loss')\n",
    "  plt.legend()\n",
    "  plt.show()\n"
   ]
  },
  {
   "cell_type": "code",
   "execution_count": null,
   "metadata": {
    "colab": {
     "base_uri": "https://localhost:8080/",
     "height": 513
    },
    "id": "mjNZj_WPbpes",
    "outputId": "c9f912ed-d592-4158-8cb7-f2735a4a7730"
   },
   "outputs": [
    {
     "data": {
      "image/png": "[encoded data removed]",
      "text/plain": [
       "<Figure size 432x288 with 1 Axes>"
      ]
     },
     "metadata": {
      "needs_background": "light",
      "tags": []
     },
     "output_type": "display_data"
    },
    {
     "data": {
      "image/png": "[encoded data removed]",
      "text/plain": [
       "<Figure size 432x288 with 1 Axes>"
      ]
     },
     "metadata": {
      "needs_background": "light",
      "tags": []
     },
     "output_type": "display_data"
    }
   ],
   "source": [
    "plot_accuracy_loss(history_lstm)"
   ]
  },
  {
   "cell_type": "markdown",
   "metadata": {
    "id": "5yio9AOAdkGU"
   },
   "source": [
    "As seen above the training accuracy peaks after 5 epochs and stays there. Validation accuracy stays stabilises around 0.83.\n",
    "\n",
    "The validation loss though increases and bounces around. Once again this indicates overfitting and loss of confidence in the predictions of the validation set."
   ]
  },
  {
   "cell_type": "markdown",
   "metadata": {
    "id": "IsMLFqwGeJYM"
   },
   "source": [
    "# Multi Layered LSTM\n",
    "\n",
    "Previous model has just 1 LSTM layer. Lets try 2 LSTM layers and see if that helps.\n"
   ]
  },
  {
   "cell_type": "code",
   "execution_count": null,
   "metadata": {
    "id": "E_iWaMT4eEbl"
   },
   "outputs": [],
   "source": [
    "# Define a layer with 3 LSTM layer\n",
    "\n",
    "\n",
    "model_lstm_3 = tf.keras.Sequential([\n",
    "                                  tf.keras.layers.Embedding(vocab_size,embedding_dim,input_length=max_length),\n",
    "                                  tf.keras.layers.Bidirectional(tf.keras.layers.LSTM(32,return_sequences=True)),\n",
    "                                  tf.keras.layers.Bidirectional(tf.keras.layers.LSTM(16,return_sequences=True)),\n",
    "                                  tf.keras.layers.Bidirectional(tf.keras.layers.LSTM(8)),\n",
    "                                  tf.keras.layers.Dense(8, activation='relu' ),\n",
    "                                  tf.keras.layers.Dense(1,activation='sigmoid')\n",
    "])"
   ]
  },
  {
   "cell_type": "code",
   "execution_count": null,
   "metadata": {
    "id": "7DK-m8PThPSj"
   },
   "outputs": [],
   "source": [
    "# Compile the model\n",
    "\n",
    "model_lstm_3.compile(optimizer='adam',loss='binary_crossentropy',metrics=['accuracy'])\n"
   ]
  },
  {
   "cell_type": "code",
   "execution_count": null,
   "metadata": {
    "colab": {
     "base_uri": "https://localhost:8080/",
     "height": 1000
    },
    "id": "zbVauImEhf4M",
    "outputId": "a78a5e6c-6ff4-437c-b2e9-8b231c34035f"
   },
   "outputs": [
    {
     "name": "stdout",
     "output_type": "stream",
     "text": [
      "Epoch 1/30\n",
      "625/625 [==============================] - 24s 38ms/step - loss: 0.4278 - accuracy: 0.7907 - val_loss: 0.2173 - val_accuracy: 0.9204\n",
      "Epoch 2/30\n",
      "625/625 [==============================] - 22s 36ms/step - loss: 0.2218 - accuracy: 0.9123 - val_loss: 0.1241 - val_accuracy: 0.9601\n",
      "Epoch 3/30\n",
      "625/625 [==============================] - 22s 36ms/step - loss: 0.1263 - accuracy: 0.9555 - val_loss: 0.0739 - val_accuracy: 0.9822\n",
      "Epoch 4/30\n",
      "625/625 [==============================] - 22s 35ms/step - loss: 0.0785 - accuracy: 0.9743 - val_loss: 0.0365 - val_accuracy: 0.9912\n",
      "Epoch 5/30\n",
      "625/625 [==============================] - 22s 35ms/step - loss: 0.0464 - accuracy: 0.9859 - val_loss: 0.0300 - val_accuracy: 0.9926\n",
      "Epoch 6/30\n",
      "625/625 [==============================] - 22s 35ms/step - loss: 0.0351 - accuracy: 0.9898 - val_loss: 0.0199 - val_accuracy: 0.9951\n",
      "Epoch 7/30\n",
      "625/625 [==============================] - 23s 36ms/step - loss: 0.0263 - accuracy: 0.9922 - val_loss: 0.0144 - val_accuracy: 0.9967\n",
      "Epoch 8/30\n",
      "625/625 [==============================] - 23s 37ms/step - loss: 0.0191 - accuracy: 0.9951 - val_loss: 0.0163 - val_accuracy: 0.9956\n",
      "Epoch 9/30\n",
      "625/625 [==============================] - 22s 35ms/step - loss: 0.0190 - accuracy: 0.9947 - val_loss: 0.0112 - val_accuracy: 0.9973\n",
      "Epoch 10/30\n",
      "625/625 [==============================] - 23s 36ms/step - loss: 0.0139 - accuracy: 0.9962 - val_loss: 0.0070 - val_accuracy: 0.9985\n",
      "Epoch 11/30\n",
      "625/625 [==============================] - 22s 36ms/step - loss: 0.0144 - accuracy: 0.9956 - val_loss: 0.0081 - val_accuracy: 0.9980\n",
      "Epoch 12/30\n",
      "625/625 [==============================] - 22s 35ms/step - loss: 0.0103 - accuracy: 0.9970 - val_loss: 0.0065 - val_accuracy: 0.9987\n",
      "Epoch 13/30\n",
      "625/625 [==============================] - 22s 35ms/step - loss: 0.0078 - accuracy: 0.9976 - val_loss: 0.0061 - val_accuracy: 0.9984\n",
      "Epoch 14/30\n",
      "625/625 [==============================] - 22s 36ms/step - loss: 0.0088 - accuracy: 0.9979 - val_loss: 0.0035 - val_accuracy: 0.9990\n",
      "Epoch 15/30\n",
      "625/625 [==============================] - 23s 37ms/step - loss: 0.0064 - accuracy: 0.9981 - val_loss: 0.0040 - val_accuracy: 0.9988\n",
      "Epoch 16/30\n",
      "625/625 [==============================] - 23s 36ms/step - loss: 0.0055 - accuracy: 0.9984 - val_loss: 0.0030 - val_accuracy: 0.9991\n",
      "Epoch 17/30\n",
      "625/625 [==============================] - 23s 36ms/step - loss: 0.0051 - accuracy: 0.9983 - val_loss: 0.0026 - val_accuracy: 0.9992\n",
      "Epoch 18/30\n",
      "625/625 [==============================] - 23s 36ms/step - loss: 0.0055 - accuracy: 0.9986 - val_loss: 0.0030 - val_accuracy: 0.9991\n",
      "Epoch 19/30\n",
      "625/625 [==============================] - 22s 36ms/step - loss: 0.0035 - accuracy: 0.9991 - val_loss: 0.0013 - val_accuracy: 0.9996\n",
      "Epoch 20/30\n",
      "625/625 [==============================] - 22s 36ms/step - loss: 0.0031 - accuracy: 0.9990 - val_loss: 0.0016 - val_accuracy: 0.9995\n",
      "Epoch 21/30\n",
      "625/625 [==============================] - 23s 37ms/step - loss: 0.0031 - accuracy: 0.9989 - val_loss: 0.0020 - val_accuracy: 0.9994\n",
      "Epoch 22/30\n",
      "625/625 [==============================] - 23s 37ms/step - loss: 0.0045 - accuracy: 0.9985 - val_loss: 0.0014 - val_accuracy: 0.9997\n",
      "Epoch 23/30\n",
      "625/625 [==============================] - 23s 36ms/step - loss: 0.0024 - accuracy: 0.9991 - val_loss: 0.0022 - val_accuracy: 0.9991\n",
      "Epoch 24/30\n",
      "625/625 [==============================] - 22s 36ms/step - loss: 0.0029 - accuracy: 0.9989 - val_loss: 0.0010 - val_accuracy: 0.9997\n",
      "Epoch 25/30\n",
      "625/625 [==============================] - 22s 36ms/step - loss: 0.0036 - accuracy: 0.9988 - val_loss: 0.0016 - val_accuracy: 0.9995\n",
      "Epoch 26/30\n",
      "625/625 [==============================] - 22s 36ms/step - loss: 0.0029 - accuracy: 0.9991 - val_loss: 9.7594e-04 - val_accuracy: 0.9997\n",
      "Epoch 27/30\n",
      "625/625 [==============================] - 22s 36ms/step - loss: 0.0017 - accuracy: 0.9995 - val_loss: 0.0011 - val_accuracy: 0.9996\n",
      "Epoch 28/30\n",
      "625/625 [==============================] - 22s 36ms/step - loss: 9.8619e-04 - accuracy: 0.9996 - val_loss: 8.0513e-04 - val_accuracy: 0.9997\n",
      "Epoch 29/30\n",
      "625/625 [==============================] - 23s 37ms/step - loss: 0.0026 - accuracy: 0.9991 - val_loss: 0.0011 - val_accuracy: 0.9996\n",
      "Epoch 30/30\n",
      "625/625 [==============================] - 22s 36ms/step - loss: 0.0014 - accuracy: 0.9995 - val_loss: 0.0013 - val_accuracy: 0.9997\n"
     ]
    }
   ],
   "source": [
    "# Fit data \n",
    "\n",
    "history_lstm_3 = model_lstm_3.fit(training_padded,training_labels,epochs=30,validation_data=(training_padded,training_labels))"
   ]
  },
  {
   "cell_type": "code",
   "execution_count": null,
   "metadata": {
    "colab": {
     "base_uri": "https://localhost:8080/",
     "height": 513
    },
    "id": "Zd6sQEWXkaye",
    "outputId": "83403562-da4d-459c-dd48-2a209cbb3e04"
   },
   "outputs": [
    {
     "data": {
      "image/png": "[encoded data removed]",
      "text/plain": [
       "<Figure size 432x288 with 1 Axes>"
      ]
     },
     "metadata": {
      "needs_background": "light",
      "tags": []
     },
     "output_type": "display_data"
    },
    {
     "data": {
      "image/png": "[encoded data removed]",
      "text/plain": [
       "<Figure size 432x288 with 1 Axes>"
      ]
     },
     "metadata": {
      "needs_background": "light",
      "tags": []
     },
     "output_type": "display_data"
    }
   ],
   "source": [
    "plot_accuracy_loss(history_lstm_3)"
   ]
  },
  {
   "cell_type": "markdown",
   "metadata": {
    "id": "NyHzObBskaGS"
   },
   "source": [
    "It seems we have found the architecture which is suitable for this problem!\n",
    "Loss and accuracy curves for training and validation are smooth and behaving as we would like them to."
   ]
  },
  {
   "cell_type": "code",
   "execution_count": null,
   "metadata": {
    "id": "9UT0HinNkx97"
   },
   "outputs": [],
   "source": []
  }
 ],
 "metadata": {
  "accelerator": "GPU",
  "colab": {
   "collapsed_sections": [
    "lzmmtjxKk6W_",
    "KCHsl0dnYuNx",
    "IsMLFqwGeJYM"
   ],
   "name": "Sarcasm Detection using Dense, LSTM, Multi-LSTM.ipynb",
   "provenance": []
  },
  "kernelspec": {
   "display_name": "Python 3",
   "language": "python",
   "name": "python3"
  },
  "language_info": {
   "codemirror_mode": {
    "name": "ipython",
    "version": 3
   },
   "file_extension": ".py",
   "mimetype": "text/x-python",
   "name": "python",
   "nbconvert_exporter": "python",
   "pygments_lexer": "ipython3",
   "version": "3.7.6"
  }
 },
 "nbformat": 4,
 "nbformat_minor": 1
}
