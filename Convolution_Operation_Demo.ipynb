{
 "cells": [
  {
   "cell_type": "code",
   "execution_count": 1,
   "metadata": {
    "id": "9jRYBGuaSbZj"
   },
   "outputs": [],
   "source": [
    "import tensorflow as tf\n",
    "import numpy as np"
   ]
  },
  {
   "cell_type": "code",
   "execution_count": 2,
   "metadata": {
    "id": "10nCOr9PStjg"
   },
   "outputs": [],
   "source": [
    "input = np.array([[255,255,255,0,0,0],[255,255,255,0,0,0],[255,255,255,0,0,0],[255,255,255,0,0,0],[255,255,255,0,0,0],[255,255,255,0,0,0]])"
   ]
  },
  {
   "cell_type": "code",
   "execution_count": 3,
   "metadata": {
    "colab": {
     "base_uri": "https://localhost:8080/",
     "height": 119
    },
    "id": "pu21EC7ijCXd",
    "outputId": "2f044fba-4dec-44d4-b8fe-12ebb736d315"
   },
   "outputs": [
    {
     "name": "stdout",
     "output_type": "stream",
     "text": [
      "[[255 255 255   0   0   0]\n",
      " [255 255 255   0   0   0]\n",
      " [255 255 255   0   0   0]\n",
      " [255 255 255   0   0   0]\n",
      " [255 255 255   0   0   0]\n",
      " [255 255 255   0   0   0]]\n"
     ]
    }
   ],
   "source": [
    "print (input)"
   ]
  },
  {
   "cell_type": "code",
   "execution_count": 4,
   "metadata": {
    "id": "UXMBBrSOTDSY"
   },
   "outputs": [],
   "source": [
    "import matplotlib.pyplot as plt\n"
   ]
  },
  {
   "cell_type": "code",
   "execution_count": 5,
   "metadata": {
    "colab": {
     "base_uri": "https://localhost:8080/",
     "height": 282
    },
    "id": "wjMjG2NDTRAh",
    "outputId": "78c39da8-1f3e-4046-feeb-10ccc6084a1c"
   },
   "outputs": [
    {
     "data": {
      "text/plain": [
       "<matplotlib.image.AxesImage at 0x7fc5e46ecf90>"
      ]
     },
     "execution_count": 5,
     "metadata": {},
     "output_type": "execute_result"
    },
    {
     "data": {
      "image/png": "[encoded data removed]",
      "text/plain": [
       "<Figure size 432x288 with 1 Axes>"
      ]
     },
     "metadata": {
      "needs_background": "light"
     },
     "output_type": "display_data"
    }
   ],
   "source": [
    "plt.imshow(input,cmap='gray')"
   ]
  },
  {
   "cell_type": "code",
   "execution_count": 6,
   "metadata": {
    "id": "8CxPplk_TTws"
   },
   "outputs": [],
   "source": [
    "filter = np.array([[1,0,-1],[1,0,-1],[1,0,-1]])\n"
   ]
  },
  {
   "cell_type": "code",
   "execution_count": 7,
   "metadata": {
    "colab": {
     "base_uri": "https://localhost:8080/",
     "height": 68
    },
    "id": "puyweFQo9DI3",
    "outputId": "bfd784c8-54f6-4eda-bbf5-d1a4e4171308"
   },
   "outputs": [
    {
     "name": "stdout",
     "output_type": "stream",
     "text": [
      "[[ 1  0 -1]\n",
      " [ 1  0 -1]\n",
      " [ 1  0 -1]]\n"
     ]
    }
   ],
   "source": [
    "print (filter)"
   ]
  },
  {
   "cell_type": "code",
   "execution_count": 8,
   "metadata": {
    "colab": {
     "base_uri": "https://localhost:8080/",
     "height": 286
    },
    "id": "YjVgr8LhTh3G",
    "outputId": "e48c2990-7422-4c07-9427-bab7a0553bd0"
   },
   "outputs": [
    {
     "data": {
      "text/plain": [
       "<matplotlib.image.AxesImage at 0x7fc5e489e110>"
      ]
     },
     "execution_count": 8,
     "metadata": {},
     "output_type": "execute_result"
    },
    {
     "data": {
      "image/png": "[encoded data removed]",
      "text/plain": [
       "<Figure size 432x288 with 1 Axes>"
      ]
     },
     "metadata": {
      "needs_background": "light"
     },
     "output_type": "display_data"
    }
   ],
   "source": [
    "plt.imshow(filter,cmap='gray')"
   ]
  },
  {
   "cell_type": "code",
   "execution_count": 9,
   "metadata": {
    "colab": {
     "base_uri": "https://localhost:8080/",
     "height": 34
    },
    "id": "ytFbnWloTx27",
    "outputId": "c5efcf91-f4d7-4074-c6f5-439b80c39705"
   },
   "outputs": [
    {
     "data": {
      "text/plain": [
       "(3, 3)"
      ]
     },
     "execution_count": 9,
     "metadata": {},
     "output_type": "execute_result"
    }
   ],
   "source": [
    "filter.shape"
   ]
  },
  {
   "cell_type": "code",
   "execution_count": 10,
   "metadata": {
    "colab": {
     "base_uri": "https://localhost:8080/",
     "height": 34
    },
    "id": "uEh55etwT4bu",
    "outputId": "c59f436c-ef83-4f98-91bc-f01b3d76aefc"
   },
   "outputs": [
    {
     "data": {
      "text/plain": [
       "(6, 6)"
      ]
     },
     "execution_count": 10,
     "metadata": {},
     "output_type": "execute_result"
    }
   ],
   "source": [
    "input.shape"
   ]
  },
  {
   "cell_type": "code",
   "execution_count": 11,
   "metadata": {
    "id": "5wxv4HpY9XJb"
   },
   "outputs": [],
   "source": [
    "# Convolving a 6x6 input with 3x3 filter (kernel) will yield a 4x4 output\n",
    "\n",
    "output_array = np.zeros((4,4))\n",
    "\n"
   ]
  },
  {
   "cell_type": "code",
   "execution_count": 12,
   "metadata": {
    "id": "4csyH5GF9j6e"
   },
   "outputs": [],
   "source": [
    "# Perform the covolution operation using loops\n",
    "\n",
    "for i in range(input.shape[0]-2):\n",
    "    for j in range(input.shape[1]-2):\n",
    "        temp_array = input[i:i+3, j:j+3]\n",
    "        output_array[i, j] = np.sum(temp_array*filter)\n",
    "\n",
    "        "
   ]
  },
  {
   "cell_type": "code",
   "execution_count": 13,
   "metadata": {
    "colab": {
     "base_uri": "https://localhost:8080/",
     "height": 286
    },
    "id": "AOA7gibC9sYz",
    "outputId": "08d96b08-16cb-4eab-a2a5-d9102441ef5a"
   },
   "outputs": [
    {
     "data": {
      "text/plain": [
       "<matplotlib.image.AxesImage at 0x7fc5e4a8a950>"
      ]
     },
     "execution_count": 13,
     "metadata": {},
     "output_type": "execute_result"
    },
    {
     "data": {
      "image/png": "[encoded data removed]",
      "text/plain": [
       "<Figure size 432x288 with 1 Axes>"
      ]
     },
     "metadata": {
      "needs_background": "light"
     },
     "output_type": "display_data"
    }
   ],
   "source": [
    "plt.imshow(output_array, cmap='gray')"
   ]
  },
  {
   "cell_type": "code",
   "execution_count": 14,
   "metadata": {},
   "outputs": [
    {
     "name": "stdout",
     "output_type": "stream",
     "text": [
      "[[255. 255. 255. 255.   0.   0.   0.   0.]\n",
      " [255. 255. 255. 255.   0.   0.   0.   0.]\n",
      " [255. 255. 255. 255.   0.   0.   0.   0.]\n",
      " [255. 255. 255. 255.   0.   0.   0.   0.]\n",
      " [255. 255. 255. 255.   0.   0.   0.   0.]\n",
      " [255. 255. 255. 255.   0.   0.   0.   0.]\n",
      " [255. 255. 255. 255.   0.   0.   0.   0.]\n",
      " [255. 255. 255. 255.   0.   0.   0.   0.]]\n"
     ]
    }
   ],
   "source": [
    "def replicate_padding(arr):\n",
    "    \"\"\"Perform replicate padding on a numpy array.\"\"\"\n",
    "    new_pad_shape = tuple(np.array(arr.shape) + 2) # 2 indicates the width + height to change, a (512, 512) image --> (514, 514) padded image.\n",
    "    padded_array = np.zeros(new_pad_shape) #create an array of zeros with new dimensions\n",
    "    \n",
    "    # perform replication\n",
    "    padded_array[1:-1,1:-1] = arr        # result will be zero-pad\n",
    "    padded_array[0,1:-1] = arr[0]        # perform edge pad for top row\n",
    "    padded_array[-1, 1:-1] = arr[-1]     # edge pad for bottom row\n",
    "    padded_array.T[0, 1:-1] = arr.T[0]   # edge pad for first column\n",
    "    padded_array.T[-1, 1:-1] = arr.T[-1] # edge pad for last column\n",
    "    \n",
    "    #at this point, all values except for the 4 corners should have been replicated\n",
    "    padded_array[0][0] = arr[0][0]     # top left corner\n",
    "    padded_array[-1][0] = arr[-1][0]   # bottom left corner\n",
    "    padded_array[0][-1] = arr[0][-1]   # top right corner \n",
    "    padded_array[-1][-1] = arr[-1][-1] # bottom right corner\n",
    "    print(padded_array)\n",
    "    return padded_array\n",
    "\n",
    "a = replicate_padding(input)"
   ]
  },
  {
   "cell_type": "markdown",
   "metadata": {
    "id": "0Gpb9oyHlCrQ"
   },
   "source": [
    "The edge here appears thick because we using a trivial image of 6 x 6. \n",
    "If you applied the convolution to a larger resolution image the edge would appear of regular width."
   ]
  },
  {
   "cell_type": "markdown",
   "metadata": {
    "id": "dd4hs42B99Os"
   },
   "source": [
    "# DIY: Write a generic function thats 2 inputs: input image, filter and returns an output array which is a convolution of input and filter . Assume image is of resolution nxn greyscale and filter is of dimension fxf\n",
    "\n",
    "\n"
   ]
  },
  {
   "cell_type": "code",
   "execution_count": 18,
   "metadata": {
    "id": "qnVB5Sna-U0q"
   },
   "outputs": [],
   "source": [
    "def convolution(input, filter):\n",
    "  f = filter.shape[0]\n",
    "  n_input = input.shape[0] \n",
    "  n_output = n_input -  f + 1 \n",
    "  print (n_input,f, n_output)\n",
    "  output = np.zeros((n_output,n_output))\n",
    "  for i in range(n_output):\n",
    "    for j in range(n_output):\n",
    "        temp_array = input[i:i+f, j:j+f]\n",
    "        output[i, j] = np.sum(temp_array*filter)\n",
    "  return(output)\n"
   ]
  },
  {
   "cell_type": "code",
   "execution_count": 19,
   "metadata": {},
   "outputs": [
    {
     "name": "stdout",
     "output_type": "stream",
     "text": [
      "6 3 4\n",
      "[[  0. 765. 765.   0.]\n",
      " [  0. 765. 765.   0.]\n",
      " [  0. 765. 765.   0.]\n",
      " [  0. 765. 765.   0.]]\n"
     ]
    }
   ],
   "source": [
    "print (convolution(input,filter))"
   ]
  },
  {
   "cell_type": "code",
   "execution_count": 16,
   "metadata": {
    "colab": {
     "base_uri": "https://localhost:8080/",
     "height": 102
    },
    "id": "7j4f8DK4_mTa",
    "outputId": "8e17eb15-2437-4482-8129-2721ed174823"
   },
   "outputs": [
    {
     "name": "stdout",
     "output_type": "stream",
     "text": [
      "6 3 4\n",
      "[[  0. 765. 765.   0.]\n",
      " [  0. 765. 765.   0.]\n",
      " [  0. 765. 765.   0.]\n",
      " [  0. 765. 765.   0.]]\n"
     ]
    }
   ],
   "source": [
    "print (convolution(input,filter))"
   ]
  },
  {
   "cell_type": "markdown",
   "metadata": {
    "id": "jg67w63mB8mm"
   },
   "source": [
    "# DIY - Convolution Operation using Tensorflow\n",
    "\n",
    "Hints:\n",
    "\n",
    "1) Read documentation for tf.nn.conv2d\n",
    "\n",
    "2) tf.nn.conv2d takes 4D tensors as input. Therefore reshape your input and \n",
    "filter arrays\n",
    "\n",
    "3) After reshaping, turn the arrays into tensor objects using tf.constant\n",
    "\n",
    "4) Use tf.nn.conv2d to perform the covoluvtion operation. Note: In addition to passing input and filter tensors  you will also have to set strides and padding parameters\n",
    "\n",
    "5) print the output. Try removing the unwanted dimensions using tf.squeeze\n",
    "\n"
   ]
  },
  {
   "cell_type": "code",
   "execution_count": null,
   "metadata": {
    "colab": {
     "base_uri": "https://localhost:8080/",
     "height": 119
    },
    "id": "-JMxlXpWCDkp",
    "outputId": "90eddf5b-4fa8-4803-be0f-b48df5a1c7f4"
   },
   "outputs": [
    {
     "data": {
      "text/plain": [
       "array([[255, 255, 255,   0,   0,   0],\n",
       "       [255, 255, 255,   0,   0,   0],\n",
       "       [255, 255, 255,   0,   0,   0],\n",
       "       [255, 255, 255,   0,   0,   0],\n",
       "       [255, 255, 255,   0,   0,   0],\n",
       "       [255, 255, 255,   0,   0,   0]])"
      ]
     },
     "execution_count": 24,
     "metadata": {
      "tags": []
     },
     "output_type": "execute_result"
    }
   ],
   "source": [
    "input"
   ]
  },
  {
   "cell_type": "code",
   "execution_count": null,
   "metadata": {
    "colab": {
     "base_uri": "https://localhost:8080/",
     "height": 68
    },
    "id": "IrDGwhXxCJ52",
    "outputId": "731ed726-520c-42ed-9e25-33fd7f694394"
   },
   "outputs": [
    {
     "data": {
      "text/plain": [
       "array([[ 1,  0, -1],\n",
       "       [ 1,  0, -1],\n",
       "       [ 1,  0, -1]])"
      ]
     },
     "execution_count": 25,
     "metadata": {
      "tags": []
     },
     "output_type": "execute_result"
    }
   ],
   "source": [
    "filter"
   ]
  },
  {
   "cell_type": "code",
   "execution_count": null,
   "metadata": {
    "id": "qc7ybIo7WUZj"
   },
   "outputs": [],
   "source": [
    "# reshape input and filter because tf.nn.conv2d uses 4D tensors\n",
    "\n",
    "input_reshaped = input.reshape((1,6,6,1))\n",
    "\n",
    "filter_reshaped = filter.reshape((3,3,1,1))"
   ]
  },
  {
   "cell_type": "code",
   "execution_count": null,
   "metadata": {
    "id": "NOXCdDpvC3Nd"
   },
   "outputs": [],
   "source": [
    "# Turn the reshapped arrays into tensor objects\n",
    "\n",
    "input_tf = tf.constant(input_reshaped,dtype=tf.float32)\n",
    "\n",
    "filter_tf = tf.constant(filter_reshaped,dtype = tf.float32)\n"
   ]
  },
  {
   "cell_type": "code",
   "execution_count": null,
   "metadata": {
    "id": "r_mCk9J9DAcF"
   },
   "outputs": [],
   "source": [
    "# Perform the covolution operationn\n",
    "\n",
    "convolved_output = tf.nn.conv2d(input_tf, filter_tf, strides=1, padding=\"VALID\")\n",
    "\n",
    "\n"
   ]
  },
  {
   "cell_type": "code",
   "execution_count": null,
   "metadata": {
    "colab": {
     "base_uri": "https://localhost:8080/",
     "height": 357
    },
    "id": "okZyDk8PDGWC",
    "outputId": "d570bf93-2722-4816-cf10-bc0e79dea08d"
   },
   "outputs": [
    {
     "name": "stdout",
     "output_type": "stream",
     "text": [
      "tf.Tensor(\n",
      "[[[[  0.]\n",
      "   [765.]\n",
      "   [765.]\n",
      "   [  0.]]\n",
      "\n",
      "  [[  0.]\n",
      "   [765.]\n",
      "   [765.]\n",
      "   [  0.]]\n",
      "\n",
      "  [[  0.]\n",
      "   [765.]\n",
      "   [765.]\n",
      "   [  0.]]\n",
      "\n",
      "  [[  0.]\n",
      "   [765.]\n",
      "   [765.]\n",
      "   [  0.]]]], shape=(1, 4, 4, 1), dtype=float32)\n"
     ]
    }
   ],
   "source": [
    "print (convolved_output)"
   ]
  },
  {
   "cell_type": "code",
   "execution_count": null,
   "metadata": {
    "colab": {
     "base_uri": "https://localhost:8080/",
     "height": 102
    },
    "id": "1iPxsVfQDUnh",
    "outputId": "0daa0099-129c-4e8a-cb9c-55fec4757d41"
   },
   "outputs": [
    {
     "name": "stdout",
     "output_type": "stream",
     "text": [
      "tf.Tensor(\n",
      "[[  0. 765. 765.   0.]\n",
      " [  0. 765. 765.   0.]\n",
      " [  0. 765. 765.   0.]\n",
      " [  0. 765. 765.   0.]], shape=(4, 4), dtype=float32)\n"
     ]
    }
   ],
   "source": [
    "# The output above is difficult to read. Use tf.squeeze to remove dimensions that are 1\n",
    "\n",
    "print (tf.squeeze(convolved_output))"
   ]
  },
  {
   "cell_type": "markdown",
   "metadata": {
    "id": "ZBNqIJIPDk4h"
   },
   "source": [
    "# Scratchpad Code\n"
   ]
  },
  {
   "cell_type": "code",
   "execution_count": null,
   "metadata": {
    "id": "XaKQUgUPUDfi"
   },
   "outputs": [],
   "source": [
    "input = input.reshape((1,6,6,1))"
   ]
  },
  {
   "cell_type": "code",
   "execution_count": null,
   "metadata": {
    "colab": {
     "base_uri": "https://localhost:8080/",
     "height": 714
    },
    "id": "hbGb1MPlWV7G",
    "outputId": "fecc86ef-bc8c-49e4-d407-bf67091f1d23"
   },
   "outputs": [
    {
     "data": {
      "text/plain": [
       "array([[[30],\n",
       "        [30],\n",
       "        [30],\n",
       "        [ 0],\n",
       "        [ 0],\n",
       "        [ 0]],\n",
       "\n",
       "       [[30],\n",
       "        [30],\n",
       "        [30],\n",
       "        [ 0],\n",
       "        [ 0],\n",
       "        [ 0]],\n",
       "\n",
       "       [[30],\n",
       "        [30],\n",
       "        [30],\n",
       "        [ 0],\n",
       "        [ 0],\n",
       "        [ 0]],\n",
       "\n",
       "       [[30],\n",
       "        [30],\n",
       "        [30],\n",
       "        [ 0],\n",
       "        [ 0],\n",
       "        [ 0]],\n",
       "\n",
       "       [[30],\n",
       "        [30],\n",
       "        [30],\n",
       "        [ 0],\n",
       "        [ 0],\n",
       "        [ 0]],\n",
       "\n",
       "       [[30],\n",
       "        [30],\n",
       "        [30],\n",
       "        [ 0],\n",
       "        [ 0],\n",
       "        [ 0]]])"
      ]
     },
     "execution_count": 52,
     "metadata": {
      "tags": []
     },
     "output_type": "execute_result"
    }
   ],
   "source": [
    "input"
   ]
  },
  {
   "cell_type": "code",
   "execution_count": null,
   "metadata": {
    "id": "i1xQgrDLWXZ-"
   },
   "outputs": [],
   "source": [
    "filter = filter.reshape((3,3,1))"
   ]
  },
  {
   "cell_type": "code",
   "execution_count": null,
   "metadata": {
    "colab": {
     "base_uri": "https://localhost:8080/",
     "height": 204
    },
    "id": "NcCQUtbUZn10",
    "outputId": "b80df9cc-d668-461b-a09f-7886609226e9"
   },
   "outputs": [
    {
     "data": {
      "text/plain": [
       "array([[[ 1],\n",
       "        [ 0],\n",
       "        [-1]],\n",
       "\n",
       "       [[ 1],\n",
       "        [ 0],\n",
       "        [-1]],\n",
       "\n",
       "       [[ 1],\n",
       "        [ 0],\n",
       "        [-1]]])"
      ]
     },
     "execution_count": 51,
     "metadata": {
      "tags": []
     },
     "output_type": "execute_result"
    }
   ],
   "source": [
    "filter"
   ]
  },
  {
   "cell_type": "code",
   "execution_count": null,
   "metadata": {
    "colab": {
     "base_uri": "https://localhost:8080/",
     "height": 1000
    },
    "id": "9wVfsICFZqIr",
    "outputId": "d452b374-e9bc-4881-d19f-a3b642dca15c"
   },
   "outputs": [
    {
     "ename": "ValueError",
     "evalue": "ignored",
     "output_type": "error",
     "traceback": [
      "\u001b[0;31m---------------------------------------------------------------------------\u001b[0m",
      "\u001b[0;31mValueError\u001b[0m                                Traceback (most recent call last)",
      "\u001b[0;32m<ipython-input-60-ed362201ac94>\u001b[0m in \u001b[0;36m<module>\u001b[0;34m()\u001b[0m\n\u001b[0;32m----> 1\u001b[0;31m \u001b[0minput\u001b[0m \u001b[0;34m=\u001b[0m \u001b[0mtf\u001b[0m\u001b[0;34m.\u001b[0m\u001b[0mconvert_to_tensor\u001b[0m\u001b[0;34m(\u001b[0m\u001b[0minput\u001b[0m\u001b[0;34m,\u001b[0m\u001b[0mdtype\u001b[0m\u001b[0;34m=\u001b[0m\u001b[0mtf\u001b[0m\u001b[0;34m.\u001b[0m\u001b[0mfloat64\u001b[0m\u001b[0;34m)\u001b[0m\u001b[0;34m\u001b[0m\u001b[0;34m\u001b[0m\u001b[0m\n\u001b[0m",
      "\u001b[0;32m/usr/local/lib/python3.6/dist-packages/tensorflow/python/framework/ops.py\u001b[0m in \u001b[0;36mconvert_to_tensor_v2\u001b[0;34m(value, dtype, dtype_hint, name)\u001b[0m\n\u001b[1;32m   1380\u001b[0m       \u001b[0mname\u001b[0m\u001b[0;34m=\u001b[0m\u001b[0mname\u001b[0m\u001b[0;34m,\u001b[0m\u001b[0;34m\u001b[0m\u001b[0;34m\u001b[0m\u001b[0m\n\u001b[1;32m   1381\u001b[0m       \u001b[0mpreferred_dtype\u001b[0m\u001b[0;34m=\u001b[0m\u001b[0mdtype_hint\u001b[0m\u001b[0;34m,\u001b[0m\u001b[0;34m\u001b[0m\u001b[0;34m\u001b[0m\u001b[0m\n\u001b[0;32m-> 1382\u001b[0;31m       as_ref=False)\n\u001b[0m\u001b[1;32m   1383\u001b[0m \u001b[0;34m\u001b[0m\u001b[0m\n\u001b[1;32m   1384\u001b[0m \u001b[0;34m\u001b[0m\u001b[0m\n",
      "\u001b[0;32m/usr/local/lib/python3.6/dist-packages/tensorflow/python/framework/ops.py\u001b[0m in \u001b[0;36mconvert_to_tensor\u001b[0;34m(value, dtype, name, as_ref, preferred_dtype, dtype_hint, ctx, accepted_result_types)\u001b[0m\n\u001b[1;32m   1473\u001b[0m       raise ValueError(\n\u001b[1;32m   1474\u001b[0m           \u001b[0;34m\"Tensor conversion requested dtype %s for Tensor with dtype %s: %r\"\u001b[0m \u001b[0;34m%\u001b[0m\u001b[0;34m\u001b[0m\u001b[0;34m\u001b[0m\u001b[0m\n\u001b[0;32m-> 1475\u001b[0;31m           (dtype.name, value.dtype.name, value))\n\u001b[0m\u001b[1;32m   1476\u001b[0m     \u001b[0;32mreturn\u001b[0m \u001b[0mvalue\u001b[0m\u001b[0;34m\u001b[0m\u001b[0;34m\u001b[0m\u001b[0m\n\u001b[1;32m   1477\u001b[0m \u001b[0;34m\u001b[0m\u001b[0m\n",
      "\u001b[0;31mValueError\u001b[0m: Tensor conversion requested dtype float64 for Tensor with dtype int64: <tf.Tensor: shape=(6, 6, 1), dtype=int64, numpy=\narray([[[30],\n        [30],\n        [30],\n        [ 0],\n        [ 0],\n        [ 0]],\n\n       [[30],\n        [30],\n        [30],\n        [ 0],\n        [ 0],\n        [ 0]],\n\n       [[30],\n        [30],\n        [30],\n        [ 0],\n        [ 0],\n        [ 0]],\n\n       [[30],\n        [30],\n        [30],\n        [ 0],\n        [ 0],\n        [ 0]],\n\n       [[30],\n        [30],\n        [30],\n        [ 0],\n        [ 0],\n        [ 0]],\n\n       [[30],\n        [30],\n        [30],\n        [ 0],\n        [ 0],\n        [ 0]]])>"
     ]
    }
   ],
   "source": [
    "input = tf.convert_to_tensor(input,dtype=tf.float64)"
   ]
  },
  {
   "cell_type": "code",
   "execution_count": null,
   "metadata": {
    "id": "yu4udxJ7ch51"
   },
   "outputs": [],
   "source": [
    "filter = tf.convert_to_tensor(filter,dtype=tf.float32)"
   ]
  },
  {
   "cell_type": "code",
   "execution_count": null,
   "metadata": {
    "colab": {
     "base_uri": "https://localhost:8080/",
     "height": 731
    },
    "id": "2ovQt-9Ycl5g",
    "outputId": "6b456a06-518b-44be-b856-91d4ee49062c"
   },
   "outputs": [
    {
     "data": {
      "text/plain": [
       "<tf.Tensor: shape=(6, 6, 1), dtype=int64, numpy=\n",
       "array([[[30],\n",
       "        [30],\n",
       "        [30],\n",
       "        [ 0],\n",
       "        [ 0],\n",
       "        [ 0]],\n",
       "\n",
       "       [[30],\n",
       "        [30],\n",
       "        [30],\n",
       "        [ 0],\n",
       "        [ 0],\n",
       "        [ 0]],\n",
       "\n",
       "       [[30],\n",
       "        [30],\n",
       "        [30],\n",
       "        [ 0],\n",
       "        [ 0],\n",
       "        [ 0]],\n",
       "\n",
       "       [[30],\n",
       "        [30],\n",
       "        [30],\n",
       "        [ 0],\n",
       "        [ 0],\n",
       "        [ 0]],\n",
       "\n",
       "       [[30],\n",
       "        [30],\n",
       "        [30],\n",
       "        [ 0],\n",
       "        [ 0],\n",
       "        [ 0]],\n",
       "\n",
       "       [[30],\n",
       "        [30],\n",
       "        [30],\n",
       "        [ 0],\n",
       "        [ 0],\n",
       "        [ 0]]])>"
      ]
     },
     "execution_count": 57,
     "metadata": {
      "tags": []
     },
     "output_type": "execute_result"
    }
   ],
   "source": [
    "input"
   ]
  },
  {
   "cell_type": "code",
   "execution_count": null,
   "metadata": {
    "id": "Hu_8QtIucqfX"
   },
   "outputs": [],
   "source": [
    "A = np.array([[30.0,30.0,30.0,0,0,0],[30,30,30,0,0,0],[30,30,30,0,0,0],[30,30,30,0,0,0],[30,30,30,0,0,0],[30,30,30,0,0,0]])\n",
    "B = np.array([[1,0,-1],[1,0,-1],[1,0,-1]])\n",
    "\n"
   ]
  },
  {
   "cell_type": "code",
   "execution_count": null,
   "metadata": {
    "id": "3eNpDc7Ce9MM"
   },
   "outputs": [],
   "source": [
    "tfA = tf.constant(A, dtype=tf.float32)\n",
    "\n",
    "tfA = tfA[tf.newaxis, :, :, tf.newaxis]\n"
   ]
  },
  {
   "cell_type": "code",
   "execution_count": null,
   "metadata": {
    "id": "pOYrcmdne-AS"
   },
   "outputs": [],
   "source": [
    "tfK = tf.constant(B, dtype=tf.float32)\n",
    "tfK = tfK[:, :, tf.newaxis, tf.newaxis]"
   ]
  },
  {
   "cell_type": "code",
   "execution_count": null,
   "metadata": {
    "id": "k6AurLqZfD7x"
   },
   "outputs": [],
   "source": [
    "convolved = tf.nn.conv2d(tfA, tfK, strides=1, padding=\"VALID\")\n"
   ]
  },
  {
   "cell_type": "code",
   "execution_count": null,
   "metadata": {
    "colab": {
     "base_uri": "https://localhost:8080/"
    },
    "id": "739UQh-UfG48",
    "outputId": "e8b73f18-9c7d-4d59-b93c-d41675b34af1"
   },
   "outputs": [
    {
     "data": {
      "text/plain": [
       "array([[[[ 0.],\n",
       "         [90.],\n",
       "         [90.],\n",
       "         [ 0.]],\n",
       "\n",
       "        [[ 0.],\n",
       "         [90.],\n",
       "         [90.],\n",
       "         [ 0.]],\n",
       "\n",
       "        [[ 0.],\n",
       "         [90.],\n",
       "         [90.],\n",
       "         [ 0.]],\n",
       "\n",
       "        [[ 0.],\n",
       "         [90.],\n",
       "         [90.],\n",
       "         [ 0.]]]], dtype=float32)"
      ]
     },
     "execution_count": 18,
     "metadata": {
      "tags": []
     },
     "output_type": "execute_result"
    }
   ],
   "source": [
    "convolved.numpy()"
   ]
  },
  {
   "cell_type": "code",
   "execution_count": null,
   "metadata": {
    "id": "sTQqkEaffLNQ"
   },
   "outputs": [],
   "source": [
    "#padded_array = np.pad(lion_arr, (1, 1), 'constant')\n",
    "#kernel = np.array([[0, 0, 0], [0, 1, 0], [0, 0, 0]])\n",
    "output_array = np.zeros((4,4))\n",
    "\n",
    "for i in range(input.shape[0]-2):\n",
    "    for j in range(input.shape[1]-2):\n",
    "        temp_array = input[i:i+3, j:j+3]\n",
    "        output_array[i, j] = np.sum(temp_array*filter)"
   ]
  },
  {
   "cell_type": "code",
   "execution_count": null,
   "metadata": {
    "colab": {
     "base_uri": "https://localhost:8080/",
     "height": 34
    },
    "id": "OmlMH-s5jMBv",
    "outputId": "2c91e777-a105-4ff3-ce51-ad94f92e2e46"
   },
   "outputs": [
    {
     "data": {
      "text/plain": [
       "(6, 6)"
      ]
     },
     "execution_count": 76,
     "metadata": {
      "tags": []
     },
     "output_type": "execute_result"
    }
   ],
   "source": [
    "input.shape"
   ]
  },
  {
   "cell_type": "code",
   "execution_count": null,
   "metadata": {
    "colab": {
     "base_uri": "https://localhost:8080/",
     "height": 34
    },
    "id": "FS58GTLNjNug",
    "outputId": "abd5c464-ed4b-4b47-f035-efcc860341ac"
   },
   "outputs": [
    {
     "data": {
      "text/plain": [
       "(3, 3)"
      ]
     },
     "execution_count": 75,
     "metadata": {
      "tags": []
     },
     "output_type": "execute_result"
    }
   ],
   "source": [
    "filter.shape"
   ]
  },
  {
   "cell_type": "code",
   "execution_count": null,
   "metadata": {
    "colab": {
     "base_uri": "https://localhost:8080/",
     "height": 85
    },
    "id": "4ERjLaCsjo-r",
    "outputId": "b4168fed-f521-4e0e-97c9-1b98c1630c04"
   },
   "outputs": [
    {
     "name": "stdout",
     "output_type": "stream",
     "text": [
      "[[  0. 765. 765.   0.]\n",
      " [  0. 765. 765.   0.]\n",
      " [  0. 765. 765.   0.]\n",
      " [  0. 765. 765.   0.]]\n"
     ]
    }
   ],
   "source": [
    "print (output_array)"
   ]
  },
  {
   "cell_type": "code",
   "execution_count": null,
   "metadata": {
    "colab": {
     "base_uri": "https://localhost:8080/",
     "height": 286
    },
    "id": "GHs0T2cVj5J7",
    "outputId": "e8638d3e-c939-4928-c052-e69a5d56d2a5"
   },
   "outputs": [
    {
     "data": {
      "text/plain": [
       "<matplotlib.image.AxesImage at 0x7f110dcf9e10>"
      ]
     },
     "execution_count": 10,
     "metadata": {
      "tags": []
     },
     "output_type": "execute_result"
    },
    {
     "data": {
      "image/png": "[encoded data removed]",
      "text/plain": [
       "<Figure size 432x288 with 1 Axes>"
      ]
     },
     "metadata": {
      "needs_background": "light",
      "tags": []
     },
     "output_type": "display_data"
    }
   ],
   "source": [
    "plt.imshow(output_array,cmap='gray')"
   ]
  },
  {
   "cell_type": "code",
   "execution_count": null,
   "metadata": {
    "id": "ZErHoKZWk_Sf"
   },
   "outputs": [],
   "source": [
    "x_in = np.array([[\n",
    "  [[2], [1], [2], [0], [1]],\n",
    "  [[1], [3], [2], [2], [3]],\n",
    "  [[1], [1], [3], [3], [0]],\n",
    "  [[2], [2], [0], [1], [1]],\n",
    "  [[0], [0], [3], [1], [2]], ]])\n",
    "\n"
   ]
  },
  {
   "cell_type": "code",
   "execution_count": null,
   "metadata": {
    "colab": {
     "base_uri": "https://localhost:8080/",
     "height": 34
    },
    "id": "FfpglXMMkBkP",
    "outputId": "4960ec9a-ab65-40da-8870-c9b547f70bea"
   },
   "outputs": [
    {
     "data": {
      "text/plain": [
       "(1, 5, 5, 1)"
      ]
     },
     "execution_count": 21,
     "metadata": {
      "tags": []
     },
     "output_type": "execute_result"
    }
   ],
   "source": [
    "x_in.shape"
   ]
  },
  {
   "cell_type": "code",
   "execution_count": null,
   "metadata": {
    "colab": {
     "base_uri": "https://localhost:8080/",
     "height": 34
    },
    "id": "t5beHB3rkD0K",
    "outputId": "7aa2c2ad-de38-4343-f668-76c316fb8b0a"
   },
   "outputs": [
    {
     "data": {
      "text/plain": [
       "(6, 6)"
      ]
     },
     "execution_count": 23,
     "metadata": {
      "tags": []
     },
     "output_type": "execute_result"
    }
   ],
   "source": [
    "input.shape"
   ]
  },
  {
   "cell_type": "code",
   "execution_count": null,
   "metadata": {
    "id": "Joq5wyFskKx-"
   },
   "outputs": [],
   "source": [
    "input_reshaped = input.reshape((1,6,6,1))"
   ]
  },
  {
   "cell_type": "code",
   "execution_count": null,
   "metadata": {
    "colab": {
     "base_uri": "https://localhost:8080/",
     "height": 34
    },
    "id": "kEMn6aUYkXF7",
    "outputId": "c801d27b-91f7-4c65-e3b8-3464fd0577fc"
   },
   "outputs": [
    {
     "data": {
      "text/plain": [
       "(1, 6, 6, 1)"
      ]
     },
     "execution_count": 27,
     "metadata": {
      "tags": []
     },
     "output_type": "execute_result"
    }
   ],
   "source": [
    "input_reshaped.shape"
   ]
  },
  {
   "cell_type": "code",
   "execution_count": null,
   "metadata": {
    "colab": {
     "base_uri": "https://localhost:8080/",
     "height": 510
    },
    "id": "7VRIgLZUkhfr",
    "outputId": "9db7df6f-e498-4c74-cee2-131b29f7a772"
   },
   "outputs": [
    {
     "data": {
      "text/plain": [
       "array([[[[2],\n",
       "         [1],\n",
       "         [2],\n",
       "         [0],\n",
       "         [1]],\n",
       "\n",
       "        [[1],\n",
       "         [3],\n",
       "         [2],\n",
       "         [2],\n",
       "         [3]],\n",
       "\n",
       "        [[1],\n",
       "         [1],\n",
       "         [3],\n",
       "         [3],\n",
       "         [0]],\n",
       "\n",
       "        [[2],\n",
       "         [2],\n",
       "         [0],\n",
       "         [1],\n",
       "         [1]],\n",
       "\n",
       "        [[0],\n",
       "         [0],\n",
       "         [3],\n",
       "         [1],\n",
       "         [2]]]])"
      ]
     },
     "execution_count": 28,
     "metadata": {
      "tags": []
     },
     "output_type": "execute_result"
    }
   ],
   "source": [
    "x_in"
   ]
  },
  {
   "cell_type": "code",
   "execution_count": null,
   "metadata": {
    "colab": {
     "base_uri": "https://localhost:8080/",
     "height": 714
    },
    "id": "w9CzVkbvknnE",
    "outputId": "ef5d37bc-4af5-4292-9b03-de16635e1452"
   },
   "outputs": [
    {
     "data": {
      "text/plain": [
       "array([[[[255],\n",
       "         [255],\n",
       "         [255],\n",
       "         [  0],\n",
       "         [  0],\n",
       "         [  0]],\n",
       "\n",
       "        [[255],\n",
       "         [255],\n",
       "         [255],\n",
       "         [  0],\n",
       "         [  0],\n",
       "         [  0]],\n",
       "\n",
       "        [[255],\n",
       "         [255],\n",
       "         [255],\n",
       "         [  0],\n",
       "         [  0],\n",
       "         [  0]],\n",
       "\n",
       "        [[255],\n",
       "         [255],\n",
       "         [255],\n",
       "         [  0],\n",
       "         [  0],\n",
       "         [  0]],\n",
       "\n",
       "        [[255],\n",
       "         [255],\n",
       "         [255],\n",
       "         [  0],\n",
       "         [  0],\n",
       "         [  0]],\n",
       "\n",
       "        [[255],\n",
       "         [255],\n",
       "         [255],\n",
       "         [  0],\n",
       "         [  0],\n",
       "         [  0]]]])"
      ]
     },
     "execution_count": 29,
     "metadata": {
      "tags": []
     },
     "output_type": "execute_result"
    }
   ],
   "source": [
    "input_reshaped"
   ]
  },
  {
   "cell_type": "code",
   "execution_count": null,
   "metadata": {
    "colab": {
     "base_uri": "https://localhost:8080/",
     "height": 119
    },
    "id": "2s1ocnPGkrY8",
    "outputId": "18841c69-7773-4cfd-8664-23e1c967dd48"
   },
   "outputs": [
    {
     "data": {
      "text/plain": [
       "array([[255, 255, 255,   0,   0,   0],\n",
       "       [255, 255, 255,   0,   0,   0],\n",
       "       [255, 255, 255,   0,   0,   0],\n",
       "       [255, 255, 255,   0,   0,   0],\n",
       "       [255, 255, 255,   0,   0,   0],\n",
       "       [255, 255, 255,   0,   0,   0]])"
      ]
     },
     "execution_count": 30,
     "metadata": {
      "tags": []
     },
     "output_type": "execute_result"
    }
   ],
   "source": []
  },
  {
   "cell_type": "code",
   "execution_count": null,
   "metadata": {
    "colab": {
     "base_uri": "https://localhost:8080/",
     "height": 68
    },
    "id": "MR7L5XYnlLKw",
    "outputId": "f2224222-c749-4436-ca2c-3e9b7c5b7b07"
   },
   "outputs": [
    {
     "data": {
      "text/plain": [
       "array([[ 1,  0, -1],\n",
       "       [ 1,  0, -1],\n",
       "       [ 1,  0, -1]])"
      ]
     },
     "execution_count": 31,
     "metadata": {
      "tags": []
     },
     "output_type": "execute_result"
    }
   ],
   "source": [
    "filter"
   ]
  },
  {
   "cell_type": "code",
   "execution_count": null,
   "metadata": {
    "id": "f-502Tzolkmi"
   },
   "outputs": [],
   "source": [
    "filter_reshaped = filter.reshape((3,3,1,1))"
   ]
  },
  {
   "cell_type": "code",
   "execution_count": null,
   "metadata": {
    "id": "G79oPPhGl_bg"
   },
   "outputs": [],
   "source": [
    "input_tf = tf.constant(input_reshaped,dtype=tf.float32)\n",
    "\n",
    "filter_tf = tf.constant(filter_reshaped,dtype = tf.float32)"
   ]
  },
  {
   "cell_type": "code",
   "execution_count": null,
   "metadata": {
    "id": "RJ4tLVDUlvMM"
   },
   "outputs": [],
   "source": [
    "convolved1 = tf.nn.conv2d(input_tf, filter_tf, strides=1, padding=\"VALID\")\n"
   ]
  },
  {
   "cell_type": "code",
   "execution_count": null,
   "metadata": {
    "colab": {
     "base_uri": "https://localhost:8080/",
     "height": 357
    },
    "id": "FUSycvuIl3Q9",
    "outputId": "44314000-71d8-4b2f-e7bb-58603fea0268"
   },
   "outputs": [
    {
     "name": "stdout",
     "output_type": "stream",
     "text": [
      "tf.Tensor(\n",
      "[[[[  0.]\n",
      "   [765.]\n",
      "   [765.]\n",
      "   [  0.]]\n",
      "\n",
      "  [[  0.]\n",
      "   [765.]\n",
      "   [765.]\n",
      "   [  0.]]\n",
      "\n",
      "  [[  0.]\n",
      "   [765.]\n",
      "   [765.]\n",
      "   [  0.]]\n",
      "\n",
      "  [[  0.]\n",
      "   [765.]\n",
      "   [765.]\n",
      "   [  0.]]]], shape=(1, 4, 4, 1), dtype=float32)\n"
     ]
    }
   ],
   "source": [
    "print (convolved1)"
   ]
  },
  {
   "cell_type": "code",
   "execution_count": null,
   "metadata": {
    "id": "iavxQBdbmRg0"
   },
   "outputs": [],
   "source": []
  }
 ],
 "metadata": {
  "accelerator": "TPU",
  "colab": {
   "collapsed_sections": [
    "dd4hs42B99Os",
    "ZBNqIJIPDk4h"
   ],
   "name": "Convolution Operation Demo",
   "provenance": []
  },
  "kernelspec": {
   "display_name": "Python 3",
   "language": "python",
   "name": "python3"
  },
  "language_info": {
   "codemirror_mode": {
    "name": "ipython",
    "version": 3
   },
   "file_extension": ".py",
   "mimetype": "text/x-python",
   "name": "python",
   "nbconvert_exporter": "python",
   "pygments_lexer": "ipython3",
   "version": "3.7.10"
  }
 },
 "nbformat": 4,
 "nbformat_minor": 1
}
